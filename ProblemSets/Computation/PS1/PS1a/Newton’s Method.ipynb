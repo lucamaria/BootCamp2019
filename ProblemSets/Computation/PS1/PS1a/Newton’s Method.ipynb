{
 "cells": [
  {
   "cell_type": "markdown",
   "metadata": {},
   "source": [
    "## Problem 1"
   ]
  },
  {
   "cell_type": "code",
   "execution_count": 1,
   "metadata": {},
   "outputs": [],
   "source": [
    "import sympy as sy\n",
    "import numpy as np\n",
    "from matplotlib import pyplot as plt"
   ]
  },
  {
   "cell_type": "code",
   "execution_count": 2,
   "metadata": {},
   "outputs": [],
   "source": [
    "def NewtonM(f, x0, df, tol=1e-5, maxiters=15):\n",
    "    x_k=x0\n",
    "    e= tol+1\n",
    "    conv=False\n",
    "    for i in range(1,maxiters+1):\n",
    "        x_k_1=x_k - f(x_k)/df(x_k)\n",
    "        e=abs(x_k_1-x_k)\n",
    "        x_k=x_k_1        \n",
    "        if e < tol:\n",
    "            conv=True\n",
    "            break\n",
    "    return x_k, conv, i"
   ]
  },
  {
   "cell_type": "code",
   "execution_count": 3,
   "metadata": {},
   "outputs": [],
   "source": [
    "def f_0(x):\n",
    "    return np.exp(x)-2\n",
    "def f_1(x):\n",
    "    return x**4-3\n",
    "\n",
    "def df_0(x):\n",
    "    return np.exp(x)\n",
    "def df_1(x):\n",
    "    return 4*x**3"
   ]
  },
  {
   "cell_type": "code",
   "execution_count": 4,
   "metadata": {},
   "outputs": [
    {
     "data": {
      "text/plain": [
       "(0.6931471805600254, True, 4)"
      ]
     },
     "execution_count": 4,
     "metadata": {},
     "output_type": "execute_result"
    }
   ],
   "source": [
    "Newton_0=NewtonM(f_0,1, df_0)\n",
    "Newton_0"
   ]
  },
  {
   "cell_type": "code",
   "execution_count": 5,
   "metadata": {},
   "outputs": [
    {
     "data": {
      "text/plain": [
       "(1.3160740129543826, True, 5)"
      ]
     },
     "execution_count": 5,
     "metadata": {},
     "output_type": "execute_result"
    }
   ],
   "source": [
    "Newton_1=NewtonM(f_1,1, df_1)\n",
    "Newton_1"
   ]
  },
  {
   "cell_type": "code",
   "execution_count": 6,
   "metadata": {},
   "outputs": [
    {
     "data": {
      "text/plain": [
       "(1.603162047558726e-13, 1.723465814507108e-11)"
      ]
     },
     "execution_count": 6,
     "metadata": {},
     "output_type": "execute_result"
    }
   ],
   "source": [
    "check_0=f_0(0.6931471805600254)\n",
    "check_1=f_1(1.3160740129543826)\n",
    "check_0,check_1 #looks good, very close to 0"
   ]
  },
  {
   "cell_type": "markdown",
   "metadata": {},
   "source": [
    "## Problem 3"
   ]
  },
  {
   "cell_type": "code",
   "execution_count": 7,
   "metadata": {},
   "outputs": [],
   "source": [
    "def N_Back(f, x0, df, a, tol=1e-5, maxiters=15):\n",
    "    x_k=x0\n",
    "    e= tol+0.1\n",
    "    conv=False\n",
    "    for i in range(maxiters+1):\n",
    "        x_k_1=x_k - a*f(x_k)/df(x_k)\n",
    "        e=np.abs(x_k_1-x_k)\n",
    "        x_k=x_k_1        \n",
    "        if e < tol:\n",
    "            conv=True\n",
    "            break\n",
    "    return x_k, conv, i"
   ]
  },
  {
   "cell_type": "code",
   "execution_count": 8,
   "metadata": {},
   "outputs": [],
   "source": [
    "f = lambda x:np.sign(x) * np.power(np.abs(x), 1./3)\n",
    "df= lambda x:1./3* np.power(np.abs(x), -2./3)"
   ]
  },
  {
   "cell_type": "code",
   "execution_count": 9,
   "metadata": {},
   "outputs": [
    {
     "data": {
      "text/plain": [
       "(655.3600000000005, False, 15)"
      ]
     },
     "execution_count": 9,
     "metadata": {},
     "output_type": "execute_result"
    }
   ],
   "source": [
    "N_Back(f,0.01,df,1) #not converging"
   ]
  },
  {
   "cell_type": "code",
   "execution_count": 10,
   "metadata": {},
   "outputs": [
    {
     "data": {
      "text/plain": [
       "(-1.280000000000025e-06, True, 6)"
      ]
     },
     "execution_count": 10,
     "metadata": {},
     "output_type": "execute_result"
    }
   ],
   "source": [
    "N_Back(f,0.1,df,0.4) #converging --> as supposed to"
   ]
  },
  {
   "cell_type": "markdown",
   "metadata": {},
   "source": [
    "## Problem 4"
   ]
  },
  {
   "cell_type": "code",
   "execution_count": 11,
   "metadata": {},
   "outputs": [],
   "source": [
    "def a_converge(f, x0, df, tol=1e-5, maxiters=15):\n",
    "    a=np.linspace(0.01,1,1000)\n",
    "    num=np.zeros(len(a))\n",
    "    \n",
    "    for index, al in enumerate(a):\n",
    "        x_k=x0\n",
    "        e= tol+1\n",
    "        for i in range(1,maxiters+1):\n",
    "            x_k_1=x_k - al*f(x_k)/df(x_k)\n",
    "            e=abs(x_k_1-x_k)\n",
    "            x_k=x_k_1        \n",
    "            if e < tol:\n",
    "                break\n",
    "        num[index]=i\n",
    "    return num"
   ]
  },
  {
   "cell_type": "code",
   "execution_count": 12,
   "metadata": {},
   "outputs": [],
   "source": [
    "a=np.linspace(0.01,1,1000)\n",
    "y=a_converge(f,0.1,df, maxiters=100)"
   ]
  },
  {
   "cell_type": "code",
   "execution_count": 13,
   "metadata": {},
   "outputs": [
    {
     "data": {
      "image/png": "[encoded data removed]",
      "text/plain": [
       "<Figure size 432x288 with 1 Axes>"
      ]
     },
     "metadata": {
      "needs_background": "light"
     },
     "output_type": "display_data"
    }
   ],
   "source": [
    "plt.plot(a,y);"
   ]
  },
  {
   "cell_type": "markdown",
   "metadata": {},
   "source": [
    "## Problem 7"
   ]
  },
  {
   "cell_type": "code",
   "execution_count": null,
   "metadata": {},
   "outputs": [],
   "source": [
    "def basins(f,Df,zeros,bounds,res):\n",
    "    x_real = np.linspace(bounds[0], bounds[1], res)\n",
    "    x_imag = np.linspace((bounds[0],(bounds[1], res)\n",
    "    X_real, X_imag = np.meshgrid(x_real, x_imag)\n",
    "    X_0 = X_real + 1j*X_imag\n",
    "    Xk=np.zeros((res,res),dtype=np.float64)\n",
    "    for i in range(iteration):\n",
    "        X_1 = X_0 - f(X_0)/Df(X_0)\n",
    "        X_0=X_1\n",
    "        Y= \n",
    "# stuck on finding Y"
   ]
  }
 ],
 "metadata": {
  "kernelspec": {
   "display_name": "Python 3",
   "language": "python",
   "name": "python3"
  },
  "language_info": {
   "codemirror_mode": {
    "name": "ipython",
    "version": 3
   },
   "file_extension": ".py",
   "mimetype": "text/x-python",
   "name": "python",
   "nbconvert_exporter": "python",
   "pygments_lexer": "ipython3",
   "version": "3.7.3"
  }
 },
 "nbformat": 4,
 "nbformat_minor": 2
}
