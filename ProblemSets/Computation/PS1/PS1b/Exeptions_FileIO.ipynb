{
 "cells": [
  {
   "cell_type": "markdown",
   "metadata": {},
   "source": [
    "## Problem 1"
   ]
  },
  {
   "cell_type": "code",
   "execution_count": 1,
   "metadata": {},
   "outputs": [],
   "source": [
    "import exeptions_file"
   ]
  },
  {
   "cell_type": "code",
   "execution_count": 2,
   "metadata": {},
   "outputs": [],
   "source": [
    "run exeptions_file.py"
   ]
  },
  {
   "cell_type": "code",
   "execution_count": 3,
   "metadata": {},
   "outputs": [
    {
     "name": "stdin",
     "output_type": "stream",
     "text": [
      "Enter a 3-digit number where the first and last digits differ by 2 or more:  123\n",
      "Enter the reverse of the first number, obtained by reading it backwards:  321\n",
      "Enter the positive difference of these numbers:  198\n",
      "Enter the reverse of the previous result:  891\n"
     ]
    },
    {
     "name": "stdout",
     "output_type": "stream",
     "text": [
      "198 + 891 = 1089 (ta-da!)\n"
     ]
    }
   ],
   "source": [
    "arithmagic()"
   ]
  },
  {
   "cell_type": "markdown",
   "metadata": {},
   "source": [
    "## Problem 2"
   ]
  },
  {
   "cell_type": "code",
   "execution_count": 12,
   "metadata": {},
   "outputs": [],
   "source": [
    "from random import choice"
   ]
  },
  {
   "cell_type": "markdown",
   "metadata": {},
   "source": [
    "My Computer interrupts when pressing \"i\" twice."
   ]
  },
  {
   "cell_type": "code",
   "execution_count": 5,
   "metadata": {},
   "outputs": [],
   "source": [
    "def random_walk(max_iters=1e12):\n",
    "    walk=0\n",
    "    directions=[1,-1]\n",
    "    try:\n",
    "        for i in range(int(max_iters)):\n",
    "            walk += choice(directions)\n",
    "    except KeyboardInterrupt:\n",
    "        print(\"Process interrupted at iteration \"+str(i))\n",
    "    else:\n",
    "        print(\"Completed\")\n",
    "    finally:\n",
    "        print(\"Value of walk: \",walk)\n",
    "        return walk"
   ]
  },
  {
   "cell_type": "code",
   "execution_count": 6,
   "metadata": {},
   "outputs": [
    {
     "name": "stdout",
     "output_type": "stream",
     "text": [
      "Process interrupted at iteration 24762358\n",
      "Value of walk:  -3938\n"
     ]
    },
    {
     "data": {
      "text/plain": [
       "-3938"
      ]
     },
     "execution_count": 6,
     "metadata": {},
     "output_type": "execute_result"
    }
   ],
   "source": [
    "random_walk()"
   ]
  },
  {
   "cell_type": "markdown",
   "metadata": {},
   "source": [
    "## Problem 3"
   ]
  },
  {
   "cell_type": "code",
   "execution_count": 13,
   "metadata": {},
   "outputs": [],
   "source": [
    "from content_filter import ContentFilter"
   ]
  },
  {
   "cell_type": "code",
   "execution_count": 14,
   "metadata": {},
   "outputs": [],
   "source": [
    "run content_filter.py"
   ]
  },
  {
   "cell_type": "code",
   "execution_count": 15,
   "metadata": {},
   "outputs": [],
   "source": [
    "Hello_world = ContentFilter(\"hello_world.txt\")"
   ]
  },
  {
   "cell_type": "code",
   "execution_count": 16,
   "metadata": {},
   "outputs": [
    {
     "data": {
      "text/plain": [
       "'Hello,\\nWorld!\\n'"
      ]
     },
     "execution_count": 16,
     "metadata": {},
     "output_type": "execute_result"
    }
   ],
   "source": [
    "Hello_world.contents"
   ]
  },
  {
   "cell_type": "markdown",
   "metadata": {},
   "source": [
    "## Problem 4"
   ]
  },
  {
   "cell_type": "code",
   "execution_count": 17,
   "metadata": {},
   "outputs": [],
   "source": [
    "class ContentFilter:\n",
    "    def __init__(self, name):\n",
    "        openedFile = False\n",
    "        self.name=name\n",
    "        while not openedFile:\n",
    "            try:\n",
    "                myFile=open(self.name,'r')\n",
    "            except (FileNotFoundError, TypeError, OSError):\n",
    "                self.name=input(\"File name invalid. Try again\")\n",
    "                continue\n",
    "            else:\n",
    "                openedFile = True\n",
    "        self.mylines=myFile.readlines()\n",
    "        cont=\"\"\n",
    "        for line in self.mylines:\n",
    "            cont= cont+line\n",
    "\n",
    "        self.contents=cont\n",
    "        myFile.close()\n",
    "\n",
    "    def uniform(self, out, mode='w', case='upper'):\n",
    "        if mode not in ['w','a','x']:\n",
    "            raise ValueError(\"Choose mode from: 'w', 'x' or 'a'\")\n",
    "        if case not in ['upper','lower']:\n",
    "            raise ValueError(\"Choose mode from: 'w', 'x' or 'a'\")\n",
    "\n",
    "        try:\n",
    "            myOut= open(out,mode)\n",
    "\n",
    "            if case =='upper':\n",
    "                for line in self.contents:\n",
    "                    myOut=write(line.upper())\n",
    "            elif case=='lower':\n",
    "                for line in self.contents:\n",
    "                    myOut=write(line.lower())\n",
    "        finally:\n",
    "            myOut.close()\n",
    "            \n",
    "## rest missing due to lack of time and proper understanding"
   ]
  }
 ],
 "metadata": {
  "kernelspec": {
   "display_name": "Python 3",
   "language": "python",
   "name": "python3"
  },
  "language_info": {
   "codemirror_mode": {
    "name": "ipython",
    "version": 3
   },
   "file_extension": ".py",
   "mimetype": "text/x-python",
   "name": "python",
   "nbconvert_exporter": "python",
   "pygments_lexer": "ipython3",
   "version": "3.6.8"
  }
 },
 "nbformat": 4,
 "nbformat_minor": 2
}
