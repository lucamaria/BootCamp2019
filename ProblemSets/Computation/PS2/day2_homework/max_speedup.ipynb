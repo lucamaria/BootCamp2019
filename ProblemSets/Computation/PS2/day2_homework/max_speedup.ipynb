{
 "cells": [
  {
   "cell_type": "markdown",
   "metadata": {},
   "source": [
    "# Maximum Speed-up"
   ]
  },
  {
   "cell_type": "code",
   "execution_count": 1,
   "metadata": {},
   "outputs": [],
   "source": [
    "def max_speed(serial, CPU):\n",
    "    return 1/(serial+(1-serial)/100)"
   ]
  },
  {
   "cell_type": "code",
   "execution_count": 14,
   "metadata": {},
   "outputs": [
    {
     "name": "stdout",
     "output_type": "stream",
     "text": [
      "The maximum speed-up that can be optained is: 71.6332%\n"
     ]
    }
   ],
   "source": [
    "serial= 0.004\n",
    "CPU = 100\n",
    "speedup=max_speed(serial, CPU)\n",
    "round_speedup=round(speedup,4)\n",
    "print(\"The maximum speed-up that can be optained is:\", str(round_speedup)+\"%\")"
   ]
  }
 ],
 "metadata": {
  "kernelspec": {
   "display_name": "Python 3",
   "language": "python",
   "name": "python3"
  },
  "language_info": {
   "codemirror_mode": {
    "name": "ipython",
    "version": 3
   },
   "file_extension": ".py",
   "mimetype": "text/x-python",
   "name": "python",
   "nbconvert_exporter": "python",
   "pygments_lexer": "ipython3",
   "version": "3.7.3"
  }
 },
 "nbformat": 4,
 "nbformat_minor": 2
}
