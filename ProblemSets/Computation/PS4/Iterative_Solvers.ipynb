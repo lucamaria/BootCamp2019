{
 "cells": [
  {
   "cell_type": "markdown",
   "metadata": {},
   "source": [
    "# Iterative Solver\n",
    "\n",
    "## Problem 1"
   ]
  },
  {
   "cell_type": "code",
   "execution_count": 1,
   "metadata": {},
   "outputs": [],
   "source": [
    "from scipy import optimize as opt\n",
    "import numpy as np\n",
    "import scipy.linalg\n",
    "from matplotlib import pyplot as plt"
   ]
  },
  {
   "cell_type": "code",
   "execution_count": 2,
   "metadata": {},
   "outputs": [],
   "source": [
    "def diag_dom(n, num_entries=None):\n",
    "    if num_entries is None:\n",
    "        num_entries = int(n**1.5) - n\n",
    "        A = np.zeros((n,n))\n",
    "        rows = np.random.choice(np.arange(0,n), size=num_entries)\n",
    "        cols = np.random.choice(np.arange(0,n), size=num_entries)\n",
    "        data = np.random.randint(-4, 4, size=num_entries)\n",
    "        for i in range(num_entries):\n",
    "            A[rows[i], cols[i]] = data[i]\n",
    "            for i in range(n):\n",
    "                A[i,i] = np.sum(np.abs(A[i])) + 1\n",
    "    return A"
   ]
  },
  {
   "cell_type": "code",
   "execution_count": 3,
   "metadata": {},
   "outputs": [],
   "source": [
    "A = diag_dom(10, num_entries=None)\n",
    "D = np.array([A[i][i] for i in range(len(A))])"
   ]
  },
  {
   "cell_type": "code",
   "execution_count": 4,
   "metadata": {},
   "outputs": [],
   "source": [
    "def myfun1(A,b,tol=1e-9, maxiters=1000):\n",
    "    D = np.array([A[i][i] for i in range(len(A))])\n",
    "    Dinv= 1/D\n",
    "    x0= np.zeros([len(A)]) #initial guess\n",
    "    xk=x0\n",
    "    \n",
    "    for ii in range(maxiters):\n",
    "        xk1=xk+Dinv*(b-A@xk) \n",
    "        e=scipy.linalg.norm((xk1-xk),np.inf)\n",
    "        xk=xk1\n",
    "        \n",
    "        if e < tol or ii == maxiters:\n",
    "            break\n",
    "    return xk, ii"
   ]
  },
  {
   "cell_type": "code",
   "execution_count": 5,
   "metadata": {},
   "outputs": [
    {
     "data": {
      "text/plain": [
       "True"
      ]
     },
     "execution_count": 5,
     "metadata": {},
     "output_type": "execute_result"
    }
   ],
   "source": [
    "b=np.random.random(len(D))\n",
    "xk, ii =myfun1(A,b,tol=1e-9, maxiters=1000)\n",
    "np.allclose(b,A@xk,rtol= 1e-9)"
   ]
  },
  {
   "cell_type": "markdown",
   "metadata": {},
   "source": [
    "## Problem 2"
   ]
  },
  {
   "cell_type": "code",
   "execution_count": 6,
   "metadata": {},
   "outputs": [],
   "source": [
    "def myfun2(A,b,tol=1e-9, maxiters=1000, plot=False):\n",
    "    Dinv= 1/D\n",
    "    x0= np.zeros([len(A)]) #initial guess\n",
    "    xk=x0\n",
    "    e=np.zeros((maxiters))\n",
    "    iters=np.zeros((maxiters))\n",
    "    \n",
    "    for ii in range(maxiters):\n",
    "        xk1=xk+Dinv*(b-A@xk) \n",
    "        e[ii]=scipy.linalg.norm(np.abs((xk1-xk)),np.inf)\n",
    "        iters[ii]=ii\n",
    "        xk=xk1\n",
    "        \n",
    "        if e[ii] < tol or ii == maxiters:\n",
    "            break\n",
    "    if plot == True:\n",
    "        plt.semilogy(iters[0:ii+1], np.abs(e[0:ii+1]));\n",
    "        plt.ylabel(\"Absolute Error of Approximation\")\n",
    "        plt.xlabel(\"Iteration\")\n",
    "        plt.suptitle(\"Convergence of Jacobi Method\")\n",
    "    \n",
    "    return xk, iters, e"
   ]
  },
  {
   "cell_type": "code",
   "execution_count": 9,
   "metadata": {},
   "outputs": [
    {
     "data": {
      "text/plain": [
       "True"
      ]
     },
     "execution_count": 9,
     "metadata": {},
     "output_type": "execute_result"
    },
    {
     "data": {
      "image/png": "[encoded data removed]",
      "text/plain": [
       "<Figure size 432x288 with 1 Axes>"
      ]
     },
     "metadata": {
      "needs_background": "light"
     },
     "output_type": "display_data"
    }
   ],
   "source": [
    "A = diag_dom(10)\n",
    "D = np.array([A[i][i] for i in range(len(A))])\n",
    "b=np.random.random(len(A))\n",
    "xk, iters, e =myfun2(A,b,tol=1e-15, maxiters=1000, plot=True)\n",
    "np.allclose(b,A@xk,rtol= 1e-15)"
   ]
  },
  {
   "cell_type": "markdown",
   "metadata": {},
   "source": [
    "## Problem 3"
   ]
  },
  {
   "cell_type": "code",
   "execution_count": 10,
   "metadata": {},
   "outputs": [],
   "source": [
    "def myfun3(A,b,tol=1e-9, maxiters=1000, plot=False):\n",
    "    xk=np.zeros([len(A)])\n",
    "    xk1=np.zeros([len(A)])\n",
    "    iters=np.zeros([len(A)])\n",
    "    e=np.zeros([len(A)])\n",
    "\n",
    "    converged = False\n",
    "    for ii in range(maxiters):\n",
    "        for jj in range(len(A)):\n",
    "            xk1[jj]=xk[jj]+(1/A[jj,jj])*(b[jj]-A[jj,:].T@xk)\n",
    "            e[ii]=scipy.linalg.norm(xk1-xk ,np.inf)\n",
    "            iters[ii]= ii\n",
    "        if e[ii] < tol:\n",
    "            converged = True \n",
    "            break\n",
    "               \n",
    "        else:\n",
    "            xk=np.copy(xk1)\n",
    "    if plot == True:\n",
    "        plt.semilogy(iters[0:ii+1], np.abs(e[0:ii+1]));\n",
    "        plt.ylabel(\"Absolute Error of Approximation\")\n",
    "        plt.xlabel(\"Iteration\")\n",
    "        plt.suptitle(\"Convergence\")\n",
    "        \n",
    "    return xk1, ii, e , converged"
   ]
  },
  {
   "cell_type": "code",
   "execution_count": 11,
   "metadata": {},
   "outputs": [
    {
     "name": "stdout",
     "output_type": "stream",
     "text": [
      "Converged: True\n",
      "Iterations: 7\n",
      "Xk1: [0.02689831 0.03128909 0.01472622 0.01108606 0.02476991 0.00365844\n",
      " 0.00897345 0.01348567 0.05719366 0.01731214]\n"
     ]
    },
    {
     "data": {
      "image/png": "[encoded data removed]",
      "text/plain": [
       "<Figure size 432x288 with 1 Axes>"
      ]
     },
     "metadata": {
      "needs_background": "light"
     },
     "output_type": "display_data"
    }
   ],
   "source": [
    "A = diag_dom(10)\n",
    "b=np.random.random(len(A))\n",
    "xk1, iters, e, converged =myfun3(A,b,tol=1e-9, maxiters=1000, plot=True)\n",
    "print(\"Converged: \"+str(converged))\n",
    "print(\"Iterations: \"+str(iters))\n",
    "print(\"Xk1: \"+str(xk1))"
   ]
  },
  {
   "cell_type": "code",
   "execution_count": 12,
   "metadata": {},
   "outputs": [
    {
     "data": {
      "text/plain": [
       "True"
      ]
     },
     "execution_count": 12,
     "metadata": {},
     "output_type": "execute_result"
    }
   ],
   "source": [
    "np.allclose(b,A@xk1,rtol= 1e-9)"
   ]
  },
  {
   "cell_type": "markdown",
   "metadata": {},
   "source": [
    "## Problem 4"
   ]
  },
  {
   "cell_type": "code",
   "execution_count": 13,
   "metadata": {},
   "outputs": [],
   "source": [
    "def myfun4(A,b,tol=1e-9, maxiters=1000):\n",
    "    s1,s2=A.shape\n",
    "    xk=np.zeros([s1])\n",
    "    xk1=np.zeros([s1])   \n",
    "    \n",
    "    converged = False\n",
    "    \n",
    "    for ii in range(maxiters):\n",
    "        for jj in range(s1):\n",
    "            rowstart = A.indptr[jj]\n",
    "            rowend = A.indptr[jj+1]\n",
    "            Aix = A.data[rowstart:rowend] @ xk[A.indices[rowstart:rowend]]\n",
    "            \n",
    "            xk1[jj]=xk[jj]+(1/A[jj,jj])*(b[jj]-Aix)\n",
    "            e=scipy.linalg.norm(xk1-xk ,np.inf)\n",
    "            \n",
    "        if e < tol:\n",
    "            converged = True \n",
    "            break\n",
    "               \n",
    "        else:\n",
    "            xk=np.copy(xk1)\n",
    "    return xk1, ii, e , converged"
   ]
  },
  {
   "cell_type": "markdown",
   "metadata": {},
   "source": [
    "Note: my computer had serious issues constructing A. Hence I lowered the number "
   ]
  },
  {
   "cell_type": "code",
   "execution_count": 47,
   "metadata": {},
   "outputs": [],
   "source": [
    "from scipy import sparse\n",
    "#A = sparse.csr_matrix(diag_dom(800))\n",
    "b = np.random.random(800)"
   ]
  },
  {
   "cell_type": "code",
   "execution_count": 52,
   "metadata": {},
   "outputs": [
    {
     "data": {
      "text/plain": [
       "(3, 6.166399856011306e-19, True)"
      ]
     },
     "execution_count": 52,
     "metadata": {},
     "output_type": "execute_result"
    }
   ],
   "source": [
    "xk1, iters, e , converged= myfun4(A,b,tol=1e-15, maxiters=1000)\n",
    "iters, e , converged"
   ]
  },
  {
   "cell_type": "markdown",
   "metadata": {},
   "source": [
    "## Problem 5"
   ]
  },
  {
   "cell_type": "code",
   "execution_count": 53,
   "metadata": {},
   "outputs": [],
   "source": [
    "def myfun5(A,b,omega,tol=1e-9, maxiters=1000):\n",
    "    s1,s2=A.shape\n",
    "    xk=np.zeros([s1])\n",
    "    xk1=np.zeros([s1])   \n",
    "    \n",
    "    converged = False\n",
    "    \n",
    "    for ii in range(maxiters):\n",
    "        for jj in range(s1):\n",
    "            rowstart = A.indptr[jj]\n",
    "            rowend = A.indptr[jj+1]\n",
    "            Aix = A.data[rowstart:rowend] @ xk[A.indices[rowstart:rowend]]\n",
    "            \n",
    "            xk1[jj]=xk[jj]+(omega/A[jj,jj])*(b[jj]-Aix)\n",
    "            e=scipy.linalg.norm(xk1-xk ,np.inf)\n",
    "            \n",
    "        if e < tol:\n",
    "            converged = True \n",
    "            break\n",
    "               \n",
    "        else:\n",
    "            xk=np.copy(xk1)\n",
    "    return xk1, ii, e , converged"
   ]
  },
  {
   "cell_type": "code",
   "execution_count": 60,
   "metadata": {},
   "outputs": [],
   "source": [
    "omega=0.09\n",
    "xk1, iters, e , converged= myfun5(A,b,omega,tol=1e-9, maxiters=1000)"
   ]
  },
  {
   "cell_type": "code",
   "execution_count": 61,
   "metadata": {},
   "outputs": [
    {
     "data": {
      "text/plain": [
       "(83, 9.35134083232883e-10)"
      ]
     },
     "execution_count": 61,
     "metadata": {},
     "output_type": "execute_result"
    }
   ],
   "source": [
    "iters, e"
   ]
  },
  {
   "cell_type": "code",
   "execution_count": null,
   "metadata": {},
   "outputs": [],
   "source": []
  },
  {
   "cell_type": "code",
   "execution_count": null,
   "metadata": {},
   "outputs": [],
   "source": []
  },
  {
   "cell_type": "code",
   "execution_count": null,
   "metadata": {},
   "outputs": [],
   "source": []
  }
 ],
 "metadata": {
  "kernelspec": {
   "display_name": "Python 3",
   "language": "python",
   "name": "python3"
  },
  "language_info": {
   "codemirror_mode": {
    "name": "ipython",
    "version": 3
   },
   "file_extension": ".py",
   "mimetype": "text/x-python",
   "name": "python",
   "nbconvert_exporter": "python",
   "pygments_lexer": "ipython3",
   "version": "3.7.3"
  }
 },
 "nbformat": 4,
 "nbformat_minor": 2
}
