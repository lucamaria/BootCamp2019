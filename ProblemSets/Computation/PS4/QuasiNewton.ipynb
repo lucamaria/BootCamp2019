{
 "cells": [
  {
   "cell_type": "markdown",
   "metadata": {},
   "source": [
    "# Newton and Quasi-Newton Methods"
   ]
  },
  {
   "cell_type": "markdown",
   "metadata": {},
   "source": [
    "## Problem 1"
   ]
  },
  {
   "cell_type": "code",
   "execution_count": 1,
   "metadata": {},
   "outputs": [],
   "source": [
    "from scipy import optimize as opt\n",
    "import numpy as np\n",
    "import scipy.linalg\n",
    "from matplotlib import pyplot as plt"
   ]
  },
  {
   "cell_type": "code",
   "execution_count": 2,
   "metadata": {},
   "outputs": [],
   "source": [
    "def NewtonM(df,d2f,x0,tol=1e-5, maxiters=1000):\n",
    "    x_k=x0\n",
    "    for ii in range(1,maxiters+1):\n",
    "        x_k_1=x_k - scipy.linalg.solve(d2f(x_k),df(x_k).T)\n",
    "        e=scipy.linalg.norm(df(x_k),np.inf)\n",
    "        x_k=x_k_1  \n",
    "        if e < tol or ii == maxiters:\n",
    "            break\n",
    "    return x_k, ii"
   ]
  },
  {
   "cell_type": "code",
   "execution_count": 3,
   "metadata": {},
   "outputs": [
    {
     "name": "stdout",
     "output_type": "stream",
     "text": [
      "Optimization terminated successfully.\n",
      "         Current function value: 0.000000\n",
      "         Iterations: 35\n",
      "         Function evaluations: 42\n",
      "         Gradient evaluations: 42\n"
     ]
    },
    {
     "data": {
      "text/plain": [
       "array([1.00000021, 1.00000045])"
      ]
     },
     "execution_count": 3,
     "metadata": {},
     "output_type": "execute_result"
    }
   ],
   "source": [
    "f = opt.rosen # The Rosenbrock function.\n",
    "df = opt.rosen_der # The first derivative.\n",
    "d2f = opt.rosen_hess # The second derivative (Hessian).\n",
    "opt.fmin_bfgs(f=f, x0=[-2,2], fprime=df, maxiter=1000)"
   ]
  },
  {
   "cell_type": "code",
   "execution_count": 4,
   "metadata": {},
   "outputs": [
    {
     "data": {
      "text/plain": [
       "(array([1., 1.]), 6)"
      ]
     },
     "execution_count": 4,
     "metadata": {},
     "output_type": "execute_result"
    }
   ],
   "source": [
    "NewtonM(df,d2f, np.array([-2,2]),tol=1e-5, maxiters=1000)"
   ]
  },
  {
   "cell_type": "markdown",
   "metadata": {},
   "source": [
    "Comparing the scipy.optimize function with my NewtonM function i conclude that using Newton Methods gets closer to the true values."
   ]
  },
  {
   "cell_type": "markdown",
   "metadata": {},
   "source": [
    "## Problem 2"
   ]
  },
  {
   "cell_type": "code",
   "execution_count": 5,
   "metadata": {},
   "outputs": [],
   "source": [
    "def BFGS(df,x0,tol=1e-5, maxiters=1000):\n",
    "    A_k_inv= np.eye(len(x0))  \n",
    "    x_k=x0\n",
    "    for ii in range(0,maxiters+1):\n",
    "        x_k_1=x_k - A_k_inv@df(x_k).T\n",
    "        s_k=x_k_1-x_k\n",
    "        y_k=df(x_k_1).T-df(x_k).T\n",
    "        if (s_k.T@y_k)**2 <= 1e-40:\n",
    "            break\n",
    "            \n",
    "          \n",
    "        T1=(s_k.T@y_k+y_k.T@A_k_inv@y_k)*np.outer(s_k, s_k)\n",
    "        D1=(s_k.T@y_k)**2\n",
    "        T2=(A_k_inv@np.outer(y_k,s_k)+np.outer(s_k,y_k)@A_k_inv)\n",
    "        D2=(s_k.T@y_k)\n",
    "        A_k_1_inv=A_k_inv+T1/D1-T2/D2\n",
    "            \n",
    "        e=np.linalg.norm(df(x_k), np.inf)\n",
    "        if e < tol or ii == maxiters:\n",
    "            break\n",
    "        else:\n",
    "            x_k=x_k_1\n",
    "            A_k_inv=A_k_1_inv\n",
    "        \n",
    "            \n",
    "    return x_k, ii\n",
    "    "
   ]
  },
  {
   "cell_type": "code",
   "execution_count": 6,
   "metadata": {},
   "outputs": [
    {
     "data": {
      "text/plain": [
       "(array([1.00000081, 1.00000161]), 148)"
      ]
     },
     "execution_count": 6,
     "metadata": {},
     "output_type": "execute_result"
    }
   ],
   "source": [
    "BFGS(df,np.array([-2,2]),tol=1e-5, maxiters=400)"
   ]
  },
  {
   "cell_type": "markdown",
   "metadata": {},
   "source": [
    "## Problem 3"
   ]
  },
  {
   "cell_type": "code",
   "execution_count": 7,
   "metadata": {},
   "outputs": [],
   "source": [
    "import time"
   ]
  },
  {
   "cell_type": "code",
   "execution_count": 8,
   "metadata": {},
   "outputs": [],
   "source": [
    "def myfun3(N):    \n",
    "    Newton_time=np.zeros(N, dtype=np.float64)\n",
    "    BFGS_time=np.zeros(N, dtype=np.float64)\n",
    "    scipy_time=np.zeros(N, dtype=np.float64)\n",
    "    \n",
    "    Newton_i=np.zeros(N)\n",
    "    BFGS_i=np.zeros(N)\n",
    "    scipy_i=np.zeros(N)\n",
    "    \n",
    "    for ii in range(N):\n",
    "        x0 = np.random.uniform(low=-3,high=3,size=(2))\n",
    "        start_time = time.clock()     \n",
    "        x_k, iterations= NewtonM(df, d2f, x0 ,tol=1e-7, maxiters=1000)\n",
    "        Newton_time[ii]= time.clock() - start_time  \n",
    "        Newton_i[ii]= iterations\n",
    "        \n",
    "        start_time = time.clock()     \n",
    "        x_k, iterations=BFGS(df,x0,tol=1e-7, maxiters=1000)\n",
    "        BFGS_time[ii]= time.clock() - start_time  \n",
    "        BFGS_i[ii]= iterations\n",
    "\n",
    "        start_time = time.clock()\n",
    "        scipy_res= opt.fmin_bfgs(f, x0, df, disp=False, maxiter=1000,retall=1, gtol=1e-7)\n",
    "        scipy_time[ii] = time.clock() - start_time\n",
    "        scipy_i[ii]= len(scipy_res[1])\n",
    "        \n",
    "    plt.loglog()\n",
    "    plt.scatter(Newton_time, Newton_i, label= \"Newton's methods\", c=\"blue\")\n",
    "    plt.scatter(BFGS_time, BFGS_i, label= \"BFGS\", c=\"orange\")\n",
    "    plt.scatter(scipy_time, scipy_i, label= \"scipy.optimize.fmin_bfgs()\", c=\"green\")\n",
    "    plt.ylabel(\"Iterations\")\n",
    "    plt.xlabel(\"Time (seconds)\")\n",
    "    plt.legend()\n",
    "    plt.show\n",
    "    return \n",
    "        "
   ]
  },
  {
   "cell_type": "code",
   "execution_count": 9,
   "metadata": {},
   "outputs": [
    {
     "name": "stderr",
     "output_type": "stream",
     "text": [
      "C:\\Users\\schue\\Anaconda3\\lib\\site-packages\\ipykernel_launcher.py:12: DeprecationWarning: time.clock has been deprecated in Python 3.3 and will be removed from Python 3.8: use time.perf_counter or time.process_time instead\n",
      "  if sys.path[0] == '':\n",
      "C:\\Users\\schue\\Anaconda3\\lib\\site-packages\\ipykernel_launcher.py:14: DeprecationWarning: time.clock has been deprecated in Python 3.3 and will be removed from Python 3.8: use time.perf_counter or time.process_time instead\n",
      "  \n",
      "C:\\Users\\schue\\Anaconda3\\lib\\site-packages\\ipykernel_launcher.py:17: DeprecationWarning: time.clock has been deprecated in Python 3.3 and will be removed from Python 3.8: use time.perf_counter or time.process_time instead\n",
      "C:\\Users\\schue\\Anaconda3\\lib\\site-packages\\ipykernel_launcher.py:19: DeprecationWarning: time.clock has been deprecated in Python 3.3 and will be removed from Python 3.8: use time.perf_counter or time.process_time instead\n",
      "C:\\Users\\schue\\Anaconda3\\lib\\site-packages\\ipykernel_launcher.py:22: DeprecationWarning: time.clock has been deprecated in Python 3.3 and will be removed from Python 3.8: use time.perf_counter or time.process_time instead\n",
      "C:\\Users\\schue\\Anaconda3\\lib\\site-packages\\ipykernel_launcher.py:24: DeprecationWarning: time.clock has been deprecated in Python 3.3 and will be removed from Python 3.8: use time.perf_counter or time.process_time instead\n"
     ]
    },
    {
     "data": {
      "image/png": "[encoded data removed]",
      "text/plain": [
       "<Figure size 432x288 with 1 Axes>"
      ]
     },
     "metadata": {
      "needs_background": "light"
     },
     "output_type": "display_data"
    }
   ],
   "source": [
    "myfun3(100) "
   ]
  },
  {
   "cell_type": "markdown",
   "metadata": {},
   "source": [
    "## Problem 4"
   ]
  },
  {
   "cell_type": "code",
   "execution_count": 10,
   "metadata": {},
   "outputs": [],
   "source": [
    "T = np.arange(10)\n",
    "y = 3*np.sin(0.5*T)+ 0.5*np.random.randn(10)\n",
    "model = lambda x, t: x[0]*np.sin(x[1]*t)\n",
    "residual = lambda x: model(x, T) - y\n",
    "jac = lambda x: np.column_stack((np.sin(x[1]*T), x[0]*T*np.cos(x[1]*T)))\n",
    "x0 = np.array([2.5,.6])"
   ]
  },
  {
   "cell_type": "code",
   "execution_count": 11,
   "metadata": {},
   "outputs": [],
   "source": [
    "def gauss_newton(jac, residual, x0, maxiter=10, tol=1e-5):\n",
    "    x_k=x0\n",
    "    conv = False\n",
    "    for ii in range(maxiter):\n",
    "        rix= residual(x_k)\n",
    "        J_x_k=jac(x_k)\n",
    "        dfx_k=J_x_k.T@rix\n",
    "        d2fx_k=J_x_k.T@J_x_k\n",
    "        x_k_1=x_k-scipy.linalg.solve(d2fx_k,dfx_k)\n",
    "        \n",
    "        e = scipy.linalg.norm(x_k_1 - x_k, np.inf)\n",
    "        x_k=x_k_1\n",
    "        \n",
    "        if e<tol or ii==maxiter:\n",
    "            if e<tol and ii<maxiter:\n",
    "                conv=True\n",
    "            break\n",
    "    return x_k, conv, ii"
   ]
  },
  {
   "cell_type": "code",
   "execution_count": 12,
   "metadata": {},
   "outputs": [],
   "source": [
    "x,conv,iters = gauss_newton(jac, residual, x0, maxiter=10, tol=1e-5)"
   ]
  },
  {
   "cell_type": "code",
   "execution_count": 13,
   "metadata": {},
   "outputs": [
    {
     "data": {
      "text/plain": [
       "(array([3.16933208, 0.49682381]), True, 4)"
      ]
     },
     "execution_count": 13,
     "metadata": {},
     "output_type": "execute_result"
    }
   ],
   "source": [
    "x,conv,iters"
   ]
  },
  {
   "cell_type": "code",
   "execution_count": 14,
   "metadata": {},
   "outputs": [
    {
     "data": {
      "text/plain": [
       "(array([3.16933208, 0.49682381]), 1)"
      ]
     },
     "execution_count": 14,
     "metadata": {},
     "output_type": "execute_result"
    }
   ],
   "source": [
    "minx = opt.leastsq(func=residual, x0=np.array([2.5,.6]), Dfun=jac)\n",
    "minx"
   ]
  },
  {
   "cell_type": "markdown",
   "metadata": {},
   "source": [
    "## Problem 5"
   ]
  },
  {
   "cell_type": "code",
   "execution_count": 15,
   "metadata": {},
   "outputs": [],
   "source": [
    "pop=np.load(\"population.npy\").T\n",
    "t=pop[0]\n",
    "y=pop[1]"
   ]
  },
  {
   "cell_type": "code",
   "execution_count": 16,
   "metadata": {},
   "outputs": [
    {
     "data": {
      "image/png": "[encoded data removed]",
      "text/plain": [
       "<Figure size 432x288 with 1 Axes>"
      ]
     },
     "metadata": {
      "needs_background": "light"
     },
     "output_type": "display_data"
    }
   ],
   "source": [
    "plt.plot(t,y)\n",
    "plt.xlabel(\"# Decades since 1790\")\n",
    "plt.ylabel(\"Population Count [millions]\")\n",
    "plt.suptitle(\"Eye-Check: Population Growth\");"
   ]
  },
  {
   "cell_type": "code",
   "execution_count": 17,
   "metadata": {},
   "outputs": [],
   "source": [
    "model5 = lambda x, t: x[0]*np.exp(x[1]*(t+x[2]))\n",
    "residual5 = lambda x: model5(x, t) - y\n",
    "jac5 = lambda x: np.column_stack((np.exp(x[1]*(t+x[2])), x[0]*(t+x[2])*np.exp(x[1]*(t+x[2])), x[0]*x[1]*np.exp(x[1]*(t+x[2]))))"
   ]
  },
  {
   "cell_type": "code",
   "execution_count": 18,
   "metadata": {},
   "outputs": [
    {
     "data": {
      "text/plain": [
       "array([1.67729595, 0.18474177, 9.11885064])"
      ]
     },
     "execution_count": 18,
     "metadata": {},
     "output_type": "execute_result"
    }
   ],
   "source": [
    "minx2, iteration = opt.leastsq(func=residual5, x0=np.array([1.5, .4, 2.5]), Dfun=jac5)\n",
    "minx2"
   ]
  },
  {
   "cell_type": "code",
   "execution_count": 19,
   "metadata": {},
   "outputs": [
    {
     "data": {
      "image/png": "[encoded data removed]",
      "text/plain": [
       "<Figure size 432x288 with 1 Axes>"
      ]
     },
     "metadata": {
      "needs_background": "light"
     },
     "output_type": "display_data"
    }
   ],
   "source": [
    "y_fit= model5(minx2, t)\n",
    "plt.plot(t,y)\n",
    "plt.plot(t, y_fit)\n",
    "plt.xlabel(\"# Decades since 1790\")\n",
    "plt.ylabel(\"Population Count [millions]\")\n",
    "plt.suptitle(\"Eye-Check: Population Growth\");"
   ]
  },
  {
   "cell_type": "code",
   "execution_count": 20,
   "metadata": {},
   "outputs": [],
   "source": [
    "mod6 = lambda x,t: x[0]/(1+np.exp(-x[1]*(t+x[2])))\n",
    "residual6 = lambda x: mod6(x,t)-y\n",
    "jac6 = lambda x: np.column_stack((1/(1+np.exp(-x[1]*(t+x[2]))), -x[0]*(-x[2]-t)*np.exp(-x[1]*(x[2]+t))/((np.exp(-x[1]*(t+x[2])+1))**2), x[0]*x[1]*np.exp(-x[1]*(x[2]+t))/((np.exp(-x[1]*(x[2]+t)+1))**2)))"
   ]
  },
  {
   "cell_type": "code",
   "execution_count": 21,
   "metadata": {},
   "outputs": [
    {
     "data": {
      "text/plain": [
       "array([30.65489338,  0.1881911 , 15.34137886])"
      ]
     },
     "execution_count": 21,
     "metadata": {},
     "output_type": "execute_result"
    }
   ],
   "source": [
    "minx6, iteration6 = opt.leastsq(func=residual6, x0=np.array([1.5, .4, 2.5]), Dfun=jac6)\n",
    "minx6"
   ]
  },
  {
   "cell_type": "code",
   "execution_count": 22,
   "metadata": {},
   "outputs": [
    {
     "data": {
      "image/png": "[encoded data removed]",
      "text/plain": [
       "<Figure size 432x288 with 1 Axes>"
      ]
     },
     "metadata": {
      "needs_background": "light"
     },
     "output_type": "display_data"
    }
   ],
   "source": [
    "x0=np.array([1.5, .4, 2.5])\n",
    "y_fit2= mod6(x0,t)\n",
    "plt.plot(t,y)\n",
    "plt.plot(t, y_fit2)\n",
    "plt.xlabel(\"# Decades since 1790\")\n",
    "plt.ylabel(\"Population Count [millions]\")\n",
    "plt.suptitle(\"Eye-Check: Population Growth\");"
   ]
  },
  {
   "cell_type": "markdown",
   "metadata": {},
   "source": [
    "# Bug!!"
   ]
  }
 ],
 "metadata": {
  "kernelspec": {
   "display_name": "Python 3",
   "language": "python",
   "name": "python3"
  },
  "language_info": {
   "codemirror_mode": {
    "name": "ipython",
    "version": 3
   },
   "file_extension": ".py",
   "mimetype": "text/x-python",
   "name": "python",
   "nbconvert_exporter": "python",
   "pygments_lexer": "ipython3",
   "version": "3.7.3"
  }
 },
 "nbformat": 4,
 "nbformat_minor": 2
}
