{
 "cells": [
  {
   "cell_type": "markdown",
   "metadata": {},
   "source": [
    "# Asset Market Equilibrium"
   ]
  },
  {
   "cell_type": "markdown",
   "metadata": {},
   "source": [
    "Households: h={1,2} with endowments $e^{1}=(1, 1, 2, 1, 2)$ and $e^{2}=(1, 3, 1, 3, 1)$;\n",
    "States: $s= {1,2,3,4}$;\n",
    "Assets: $A^{1}$ and $A^{2}$ with Payoffs: $(1,1,1,1)$ and $(1,1,1.5.1.5)$ respectively.\n",
    "\n",
    "The Agents' utility has the following form:\n",
    "$$\n",
    "\\begin{array}{c}\n",
    "\\max_{\\theta_{1},\\theta_{2}} U(c^{z})=v(c_0)+\\dfrac{1}{4}\\sum_{i=1}^{4}v(c_i)\\\\\n",
    "\\end{array}\n",
    "$$\n",
    "where\n",
    "$v(c)=\\dfrac{c^{1-\\gamma}}{1-\\gamma}$\n",
    "\n",
    "For all states in s, agents maximize their utility and choose over the amount of assets to hold: ($\\theta^{h}_{1}$,$\\theta^{h}_{2}$)\n",
    "\n",
    "$$\\begin{array}{c}\n",
    "\\max_{\\theta^{h}_{1},\\theta^{h}_{2}} U(c^{h})=v(c_0^{h})+E[v(c_s^{h})]\\\\\n",
    "\\end{array} $$\n",
    "s.t. \n",
    "$$\n",
    "\\begin{array}{c}\n",
    "c^h_{0}=e^h_{0}-q_{1}*\\theta^h_{1}-q_{2}*\\theta^h_{2} \\\\\n",
    "c^h_{s}=e^h_{s}+A^1_{s} *\\theta^h_{1}+A^2_{s} *\\theta^h_{2}\\\\\n",
    "\\end{array}\n",
    "$$\n",
    "\n",
    "\n",
    "The first order conditions for this problem look like the following:\n",
    "\n",
    "$$\n",
    "\\begin{array}{c}\n",
    "-q_{1}v'(c^1_{0}) + E[v'(c^1_{s})A^1_{s})]=0\\\\\n",
    "-q_{1}v'(c^2_{0}) + E[v'(c^2_{s})A^1_{s})]=0\\\\\n",
    "-q_{2}v'(c^1_{0}) + E[v'(c^1_{s})A^2_{s})]=0\\\\\n",
    "-q_{2}v'(c^2_{0}) + E[v'(c^2_{s})A^2_{s})]=0\\\\\n",
    "\\end{array}\n",
    "$$\n",
    "\n",
    "As households trade with eachother, the market clears whenever the aggregate holdings are zero for each asset.\n",
    "\n",
    "$$\n",
    "\\begin{array}{c}\n",
    "\\theta^1_1 +\\theta^2_1=0\\\\\n",
    "\\theta^1_2 +\\theta^2_2=0\n",
    "\\end{array}\n",
    "$$\n",
    "\n",
    "\n"
   ]
  },
  {
   "cell_type": "code",
   "execution_count": 2,
   "metadata": {},
   "outputs": [],
   "source": [
    "import numpy as np\n",
    "from scipy.optimize import fsolve\n",
    "\n",
    "def AME(x):\n",
    "    gam=2\n",
    "    the_1_1=x[0]\n",
    "    the_1_2=x[1]\n",
    "    the_2_1=x[2]\n",
    "    the_2_2=x[3]\n",
    "    q_1=x[4]\n",
    "    q_2=x[5]\n",
    "    f=np.zeros(6)\n",
    "    c_0_1=1-q_1*the_1_1-q_2*the_2_1\n",
    "    c_0_2=1-q_1*the_1_2-q_2*the_2_2\n",
    "    c_1_1=1+the_1_1+the_2_1\n",
    "    c_1_2=3+the_1_2+the_2_2\n",
    "    c_2_1=2+the_1_1+the_2_1\n",
    "    c_2_2=1+the_1_2+the_2_2\n",
    "    c_3_1=1+the_1_1+1.5*the_2_1\n",
    "    c_3_2=3+the_1_2+1.5*the_2_2\n",
    "    c_4_1=2+the_1_1+1.5*the_2_1\n",
    "    c_4_2=1+the_1_2+1.5*the_2_2\n",
    "    f[0]=-q_1*c_0_1**(-gam)+0.25*(c_1_1**(-gam)+c_2_1**(-gam)+c_3_1**(-gam)+c_4_1**(-gam))\n",
    "    f[1]=-q_1*c_0_2**(-gam)+0.25*(c_1_2**(-gam)+c_2_2**(-gam)+c_3_2**(-gam)+c_4_2**(-gam))\n",
    "    f[2]=-q_2*c_0_1**(-gam)+0.25*(c_1_1**(-gam)+c_2_1**(-gam)+1.5*c_3_1**(-gam)+1.5*c_4_1**(-gam))\n",
    "    f[3]=-q_2*c_0_2**(-gam)+0.25*(c_1_2**(-gam)+c_2_2**(-gam)+1.5*c_3_2**(-gam)+1.5*c_4_2**(-gam))\n",
    "    f[4]=the_1_1+the_1_2\n",
    "    f[5]=the_2_1+the_2_2\n",
    "    return f"
   ]
  },
  {
   "cell_type": "code",
   "execution_count": 2,
   "metadata": {},
   "outputs": [
    {
     "data": {
      "text/plain": [
       "array([ 1.95406655e-02, -1.95406655e-02,  1.18668498e-11, -1.18668498e-11,\n",
       "        5.89777656e-01,  7.37222070e-01])"
      ]
     },
     "execution_count": 2,
     "metadata": {},
     "output_type": "execute_result"
    }
   ],
   "source": [
    "fsolve(AME, [0.1, -0.1, 0.1, -0.1, 1, 1])    "
   ]
  },
  {
   "cell_type": "markdown",
   "metadata": {},
   "source": [
    "As expected, we see that for each asset one agent is long and the other one is short in an asset. (Side note: the values of the holdings in each asset for each agent greatly depend on the initial guess in the fsolve command).\n",
    "By increasing the risk aversion coefficient gamma, the intuition is that safer assets are more desired than risky ones. However, increasing gamma does not show consistent change in the holdings."
   ]
  },
  {
   "cell_type": "markdown",
   "metadata": {},
   "source": [
    "# Tic Tac Toe"
   ]
  },
  {
   "cell_type": "code",
   "execution_count": 3,
   "metadata": {},
   "outputs": [
    {
     "name": "stdin",
     "output_type": "stream",
     "text": [
      "Play X (0-8): 2\n"
     ]
    },
    {
     "name": "stdout",
     "output_type": "stream",
     "text": [
      ". . X\n",
      ". . .\n",
      ". . .\n",
      "\n",
      "on it...\n",
      ". . X\n",
      ". O .\n",
      ". . .\n",
      "\n"
     ]
    },
    {
     "name": "stdin",
     "output_type": "stream",
     "text": [
      "Play X (0-8): 6\n"
     ]
    },
    {
     "name": "stdout",
     "output_type": "stream",
     "text": [
      ". . X\n",
      ". O .\n",
      "X . .\n",
      "\n",
      "on it...\n",
      ". O X\n",
      ". O .\n",
      "X . .\n",
      "\n"
     ]
    },
    {
     "name": "stdin",
     "output_type": "stream",
     "text": [
      "Play X (0-8): 7\n"
     ]
    },
    {
     "name": "stdout",
     "output_type": "stream",
     "text": [
      ". O X\n",
      ". O .\n",
      "X X .\n",
      "\n",
      "on it...\n",
      ". O X\n",
      ". O .\n",
      "X X O\n",
      "\n"
     ]
    },
    {
     "name": "stdin",
     "output_type": "stream",
     "text": [
      "Play X (0-8): 0\n"
     ]
    },
    {
     "name": "stdout",
     "output_type": "stream",
     "text": [
      "X O X\n",
      ". O .\n",
      "X X O\n",
      "\n",
      "on it...\n",
      "X O X\n",
      "O O .\n",
      "X X O\n",
      "\n"
     ]
    },
    {
     "name": "stdin",
     "output_type": "stream",
     "text": [
      "Play X (0-8): 5\n"
     ]
    },
    {
     "name": "stdout",
     "output_type": "stream",
     "text": [
      "X O X\n",
      "O O X\n",
      "X X O\n",
      "\n"
     ]
    }
   ],
   "source": [
    "import copy\n",
    "\n",
    "class XO:\n",
    "    def opp_sign(self, sign):\n",
    "        return 'O' if sign == 'X' else 'X' \n",
    "\n",
    "class Board:\n",
    "    def __init__(self, size):\n",
    "        self.s = size\n",
    "        self.q = size*size\n",
    "        self.empty = [i for i in range(self.q)]\n",
    "        self.grid = ['.'] * self.q\n",
    "    def ins(self, move, sign):\n",
    "        self.grid[move] = sign\n",
    "        self.empty = [i for i in self.empty if i != move]\n",
    "    def is_full(self):\n",
    "        return not len(self.empty)\n",
    "    def get_col(self, col):\n",
    "        return [self.grid[i] for i in range(col-1, self.q, self.s)] \n",
    "    def get_row(self, row):\n",
    "        return self.grid[(row-1)*self.s:row*self.s] \n",
    "    def get_diag1(self):\n",
    "        return [self.grid[i] for i in range(0, self.q, self.s+1)] \n",
    "    def get_diag2(self):\n",
    "        return [self.grid[i] for i in range(self.s-1, self.q, self.s-1)][:-1] \n",
    "    def __str__(self):\n",
    "        return '\\n'.join([' '.join(map(str,self.grid[i:i+self.s])) \n",
    "                for i in range(0, self.q, self.s)]) + '\\n'\n",
    "    \n",
    "class Tree:\n",
    "    def find_best_move(self,board,depth,sign):\n",
    "\n",
    "        if (board.empty==[]): return None\n",
    "    \n",
    "        best_move=-(2**(board.s**2))\n",
    "        m=board.empty[0]\n",
    "        for move in board.empty:\n",
    "            b=copy.deepcopy(board)\n",
    "            b.ins(move,sign)\n",
    "            if (self.is_win(b,sign) or self.is_win(b,xo.opp_sign(sign))):\n",
    "                return move\n",
    "            curr_move=self.minimax(b,depth,False,xo.opp_sign(sign))\n",
    "            if (curr_move > best_move):\n",
    "                best_move = curr_move\n",
    "                m=move\n",
    "        return m \n",
    "    \n",
    "    def minimax(self,board,depth,myTurn,sign):\n",
    "\n",
    "        if (self.is_win(board,xo.opp_sign(sign))):\n",
    "            if myTurn: \n",
    "                return -(board.s**2+1) + depth\n",
    "            else:\n",
    "                return (board.s**2+1) - depth\n",
    "                \n",
    "        elif (board.is_full()):\n",
    "            return 0\n",
    "    \n",
    "        if (myTurn):\n",
    "            bestVal=-(2**700)\n",
    "            for move in board.empty: #empty - the empty squares at the board \n",
    "                b = copy.deepcopy(board)\n",
    "                b.ins(move, sign)\n",
    "                value=self.minimax(b,depth+1,not myTurn, xo.opp_sign(sign))\n",
    "                #xo.opp_sign(sign) - if function for the opposite sign: x=>o and o=>x\n",
    "                bestVal = max([bestVal,value])\n",
    "    \n",
    "        else:\n",
    "            bestVal = (2**700)\n",
    "            for move in board.empty:\n",
    "                b = copy.deepcopy(board)\n",
    "                b.ins(move, sign) \n",
    "                value = self.minimax(b, depth + 1, not myTurn, xo.opp_sign(sign))\n",
    "\n",
    "                bestVal = min([bestVal, value])\n",
    "\n",
    "        return bestVal\n",
    "\n",
    "    def is_win(self,board, sign):\n",
    "    \n",
    "        temp=board.s\n",
    "        wins = []  \n",
    "        for i in range(1, temp + 1):\n",
    "            wins.append(board.get_col(i))\n",
    "            wins.append(board.get_row(i))\n",
    "        wins.append(board.get_diag1())\n",
    "        wins.append(board.get_diag2())\n",
    "    \n",
    "        for i in wins:\n",
    "            if (self.is_same(i, sign)):\n",
    "                return True\n",
    "        return False\n",
    "    \n",
    "    def is_same(self, l, sign):\n",
    "        for i in l:\n",
    "            if (i != sign):\n",
    "                return False\n",
    "        return True\n",
    "\n",
    "xo = XO()\n",
    "board = Board(3)\n",
    "tree = Tree()\n",
    "sign = 'O'\n",
    "human = False\n",
    "while not board.is_full() and not tree.is_win(board, sign):\n",
    "    sign = xo.opp_sign(sign)\n",
    "    human = not human\n",
    "    if human:\n",
    "        move = input('Play {} (0-8):'.format(sign))\n",
    "    else:\n",
    "        print('on it...')\n",
    "        move = tree.find_best_move(board, 0, sign)\n",
    "    board.ins(int(move), sign)\n",
    "    print (board)"
   ]
  },
  {
   "cell_type": "markdown",
   "metadata": {},
   "source": [
    "# Ramsey 1"
   ]
  },
  {
   "cell_type": "code",
   "execution_count": 23,
   "metadata": {},
   "outputs": [],
   "source": [
    "#50 points"
   ]
  },
  {
   "cell_type": "code",
   "execution_count": 19,
   "metadata": {},
   "outputs": [],
   "source": [
    "N = 50 # number of grid-points for the capital grid\n",
    "k_low = 0.1 # lower bound for the capital grid\n",
    "k_high = 10 # upper bound for capital grid\n",
    "k_grid = np.linspace(k_low, k_high, N).reshape(1, N) #grid for capital\n",
    "\n",
    "# Now we initialize the value function, I like to initialize it to zero.\n",
    "V_init = np.zeros((2, N))\n",
    "beta = 0.9"
   ]
  },
  {
   "cell_type": "code",
   "execution_count": 21,
   "metadata": {},
   "outputs": [],
   "source": [
    "def u(c):\n",
    "    \"\"\"\n",
    "    input: \n",
    "    c: consumption\n",
    "    \n",
    "    output:\n",
    "    utility received from consumption\n",
    "    \"\"\"\n",
    "    return np.log(c)\n",
    "\n",
    "#Value function update for a given state:\n",
    "\n",
    "def actionvalue_allchoices(k_index, V_old):\n",
    "    \"\"\"\n",
    "    input:\n",
    "    k_index: index so that k_grid[index] corresponds to value of capital this period (state)\n",
    "    V_old: approximation to the value function. V_old[i] approximates V(k_grid[i]).\n",
    "    \n",
    "    output:\n",
    "    action_value: value of all possible state-action pairs.\n",
    "    \"\"\"\n",
    "    k = k_grid[0,k_index]\n",
    "    \n",
    "    action_value = np.zeros_like(V_old) #(2,N)\n",
    "    c = np.zeros_like(V_old)\n",
    "    c[0,:] = 0.9*k**0.3 + 0.3 * k - k_grid # consumption implied by policy k_next in state k\n",
    "    c[1,:] = 1.1*k**0.3 + 0.9 * k - k_grid\n",
    " \n",
    "    action_value[c <= 0] = -999999 # set value to -HUGE for negative consumption\n",
    "    action_value[c > 0] = u(c[c > 0])\n",
    "    \n",
    "    EV_old=V_old.mean(axis=0).reshape(1,N)\n",
    "    \n",
    "    action_value=action_value + beta * EV_old #(2,N)\n",
    "    \n",
    "    return action_value\n",
    "\n",
    "def vf_update(i, V_old):\n",
    "    \"\"\"\n",
    "    input:\n",
    "    i: index corresponding to the entry of the value-function vector which is updated\n",
    "    V_old: value function vector from the previous iteration\n",
    "    \n",
    "    output:\n",
    "    Vi_new: updated value for the value function vector at entry i.\n",
    "    \"\"\"    \n",
    "    Vi_new = actionvalue_allchoices(i, V_old).max(axis=1)\n",
    "    \n",
    "    return Vi_new\n",
    "\n",
    "#one update iteration:\n",
    "def vf_update_iteration(V_old):\n",
    "    \"\"\"\n",
    "    input: \n",
    "    V_old: array with current approximation of the value function\n",
    "    \n",
    "    output:\n",
    "    V_new: updated approximation of the value function\n",
    "    \"\"\"\n",
    "    V_new = np.zeros_like(V_old)\n",
    "    for ii in range(V_new.shape[1]):\n",
    "        V_new[:,ii] = vf_update(ii, V_old)\n",
    "    return V_new"
   ]
  },
  {
   "cell_type": "code",
   "execution_count": 22,
   "metadata": {},
   "outputs": [
    {
     "name": "stdout",
     "output_type": "stream",
     "text": [
      "Iteration: 1\n",
      "Iteration: 2\n",
      "Iteration: 3\n",
      "Iteration: 4\n",
      "Iteration: 5\n",
      "Iteration: 6\n",
      "Iteration: 7\n",
      "Iteration: 8\n",
      "Iteration: 9\n",
      "Iteration: 10\n",
      "Iteration: 11\n",
      "Iteration: 12\n",
      "Iteration: 13\n",
      "Iteration: 14\n",
      "Iteration: 15\n",
      "Iteration: 16\n",
      "Iteration: 17\n",
      "Iteration: 18\n",
      "Iteration: 19\n",
      "Iteration: 20\n",
      "Iteration: 21\n",
      "Iteration: 22\n",
      "Iteration: 23\n",
      "Iteration: 24\n",
      "Iteration: 25\n",
      "Iteration: 26\n"
     ]
    },
    {
     "data": {
      "image/png": "[encoded data removed]",
      "text/plain": [
       "<Figure size 432x288 with 1 Axes>"
      ]
     },
     "metadata": {
      "needs_background": "light"
     },
     "output_type": "display_data"
    },
    {
     "name": "stdout",
     "output_type": "stream",
     "text": [
      "Iteration: 27\n",
      "Iteration: 28\n",
      "Iteration: 29\n",
      "Iteration: 30\n",
      "Iteration: 31\n",
      "Iteration: 32\n",
      "Iteration: 33\n",
      "Iteration: 34\n",
      "Iteration: 35\n",
      "Iteration: 36\n",
      "Iteration: 37\n",
      "Iteration: 38\n",
      "Iteration: 39\n",
      "Iteration: 40\n",
      "Iteration: 41\n",
      "Iteration: 42\n",
      "Iteration: 43\n",
      "Iteration: 44\n",
      "Iteration: 45\n",
      "Iteration: 46\n",
      "Iteration: 47\n",
      "Iteration: 48\n",
      "Iteration: 49\n",
      "Iteration: 50\n",
      "Iteration: 51\n",
      "Iteration: 52\n",
      "Iteration: 53\n",
      "Iteration: 54\n",
      "Iteration: 55\n",
      "Iteration: 56\n",
      "Iteration: 57\n",
      "Iteration: 58\n",
      "Iteration: 59\n",
      "Iteration: 60\n",
      "Iteration: 61\n",
      "Iteration: 62\n",
      "Iteration: 63\n",
      "Iteration: 64\n",
      "Iteration: 65\n",
      "Iteration: 66\n",
      "Iteration: 67\n",
      "Iteration: 68\n",
      "Iteration: 69\n",
      "Iteration: 70\n",
      "Iteration: 71\n",
      "Iteration: 72\n",
      "Iteration: 73\n",
      "Iteration: 74\n",
      "Iteration: 75\n",
      "Iteration: 76\n"
     ]
    },
    {
     "data": {
      "image/png": "[encoded data removed]",
      "text/plain": [
       "<Figure size 432x288 with 1 Axes>"
      ]
     },
     "metadata": {
      "needs_background": "light"
     },
     "output_type": "display_data"
    },
    {
     "name": "stdout",
     "output_type": "stream",
     "text": [
      "Iteration: 77\n",
      "Iteration: 78\n",
      "Iteration: 79\n",
      "Iteration: 80\n",
      "Iteration: 81\n",
      "Iteration: 82\n",
      "Iteration: 83\n",
      "Iteration: 84\n",
      "Iteration: 85\n",
      "Iteration: 86\n",
      "Iteration: 87\n",
      "Iteration: 88\n",
      "Iteration: 89\n",
      "Iteration: 90\n",
      "Iteration: 91\n",
      "Iteration: 92\n",
      "Iteration: 93\n",
      "Iteration: 94\n",
      "Iteration: 95\n",
      "Iteration: 96\n",
      "Iteration: 97\n",
      "Iteration: 98\n",
      "Iteration: 99\n",
      "Iteration: 100\n",
      "Iteration: 101\n",
      "Iteration: 102\n",
      "Iteration: 103\n",
      "Iteration: 104\n",
      "Iteration: 105\n",
      "Iteration: 106\n",
      "Iteration: 107\n",
      "Iteration: 108\n",
      "Iteration: 109\n",
      "Iteration: 110\n",
      "Iteration: 111\n",
      "Iteration: 112\n",
      "Iteration: 113\n",
      "Iteration: 114\n",
      "Iteration: 115\n",
      "Iteration: 116\n",
      "Iteration: 117\n",
      "Iteration: 118\n",
      "Iteration: 119\n",
      "Iteration: 120\n",
      "Iteration: 121\n",
      "Iteration: 122\n",
      "Iteration: 123\n",
      "Iteration: 124\n",
      "Iteration: 125\n",
      "Iteration: 126\n"
     ]
    },
    {
     "data": {
      "image/png": "[encoded data removed]",
      "text/plain": [
       "<Figure size 432x288 with 1 Axes>"
      ]
     },
     "metadata": {
      "needs_background": "light"
     },
     "output_type": "display_data"
    },
    {
     "name": "stdout",
     "output_type": "stream",
     "text": [
      "Iteration: 127\n",
      "Iteration: 128\n",
      "Iteration: 129\n",
      "Iteration: 130\n",
      "Iteration: 131\n",
      "Iteration: 132\n",
      "Iteration: 133\n",
      "Iteration: 134\n",
      "Iteration: 135\n",
      "Iteration: 136\n",
      "Iteration: 137\n",
      "Iteration: 138\n",
      "Iteration: 139\n",
      "Iteration: 140\n",
      "Iteration: 141\n",
      "Iteration: 142\n",
      "Iteration: 143\n",
      "Iteration: 144\n",
      "Iteration: 145\n",
      "Iteration: 146\n",
      "Iteration: 147\n",
      "Iteration: 148\n",
      "Iteration: 149\n",
      "Iteration: 150\n",
      "Iteration: 151\n",
      "Iteration: 152\n",
      "Iteration: 153\n",
      "Iteration: 154\n",
      "Iteration: 155\n",
      "Iteration: 156\n",
      "Iteration: 157\n",
      "Iteration: 158\n",
      "Iteration: 159\n",
      "Iteration: 160\n",
      "Iteration: 161\n",
      "Iteration: 162\n",
      "Iteration: 163\n",
      "Iteration: 164\n",
      "Iteration: 165\n",
      "Iteration: 166\n",
      "Iteration: 167\n",
      "Iteration: 168\n",
      "Iteration: 169\n",
      "Iteration: 170\n",
      "Iteration: 171\n",
      "Iteration: 172\n",
      "Iteration: 173\n",
      "Iteration: 174\n",
      "Iteration: 175\n",
      "Iteration: 176\n"
     ]
    },
    {
     "data": {
      "image/png": "[encoded data removed]",
      "text/plain": [
       "<Figure size 432x288 with 1 Axes>"
      ]
     },
     "metadata": {
      "needs_background": "light"
     },
     "output_type": "display_data"
    },
    {
     "name": "stdout",
     "output_type": "stream",
     "text": [
      "Iteration: 177\n",
      "Iteration: 178\n",
      "Iteration: 179\n",
      "Iteration: 180\n",
      "Iteration: 181\n",
      "Iteration: 182\n",
      "Iteration: 183\n",
      "Iteration: 184\n",
      "Iteration: 185\n",
      "Iteration: 186\n",
      "Iteration: 187\n",
      "Iteration: 188\n",
      "Iteration: 189\n",
      "Iteration: 190\n",
      "Iteration: 191\n",
      "Iteration: 192\n",
      "Iteration: 193\n",
      "Iteration: 194\n",
      "Iteration: 195\n",
      "Iteration: 196\n",
      "Iteration: 197\n",
      "Iteration: 198\n",
      "Iteration: 199\n",
      "Iteration: 200\n",
      "Iteration: 201\n",
      "Iteration: 202\n",
      "Iteration: 203\n",
      "Iteration: 204\n",
      "Iteration: 205\n",
      "Iteration: 206\n",
      "Iteration: 207\n",
      "Iteration: 208\n",
      "Iteration: 209\n",
      "Iteration: 210\n",
      "Iteration: 211\n",
      "Iteration: 212\n",
      "Iteration: 213\n",
      "Iteration: 214\n",
      "Iteration: 215\n",
      "Converged after iteration 215\n"
     ]
    },
    {
     "data": {
      "image/png": "[encoded data removed]",
      "text/plain": [
       "<Figure size 432x288 with 1 Axes>"
      ]
     },
     "metadata": {
      "needs_background": "light"
     },
     "output_type": "display_data"
    }
   ],
   "source": [
    "from matplotlib import pyplot as plt\n",
    "\n",
    "difference_list = []\n",
    "threshold = 1e-10\n",
    "max_iterations = 10000\n",
    "plot_interval = 50\n",
    "\n",
    "V = V_init.copy()\n",
    "\n",
    "for iteration in range(max_iterations):\n",
    "    print('Iteration: {}'.format(iteration + 1))\n",
    "    \n",
    "    V_new = vf_update_iteration(V)\n",
    "    difference = np.max(np.abs(V_new-V))\n",
    "    \n",
    "    difference_list.append(difference) \n",
    "    \n",
    "    V = V_new.copy()\n",
    "    \n",
    "    if difference < threshold:\n",
    "        print('Converged after iteration {}'.format(iteration + 1))\n",
    "        \n",
    "        plt.figure()\n",
    "        plt.plot(k_grid[0,:], V[0,:], label='s=1')\n",
    "        plt.plot(k_grid[0,:], V[1,:], label='s=2')\n",
    "        plt.xlabel('k')\n",
    "        plt.ylabel('V(k)')\n",
    "        plt.title('Value function after convergence')\n",
    "        plt.show();\n",
    "        break\n",
    "        \n",
    "    if iteration%plot_interval == 25:\n",
    "        \n",
    "        plt.figure()\n",
    "        plt.plot(np.arange(1, iteration+2), np.log10(np.array(difference_list)))\n",
    "        plt.xlabel('Iteration')\n",
    "        plt.ylabel('Maximum update [log10]')\n",
    "        plt.show();"
   ]
  },
  {
   "cell_type": "code",
   "execution_count": 23,
   "metadata": {},
   "outputs": [],
   "source": [
    "# N=500"
   ]
  },
  {
   "cell_type": "code",
   "execution_count": 24,
   "metadata": {},
   "outputs": [],
   "source": [
    "N = 500 # number of grid-points for the capital grid\n",
    "k_low = 0.1 # lower bound for the capital grid\n",
    "k_high = 10 # upper bound for capital grid\n",
    "k_grid = np.linspace(k_low, k_high, N).reshape(1, N) #grid for capital\n",
    "\n",
    "# Now we initialize the value function, I like to initialize it to zero.\n",
    "V_init = np.zeros((2, N))"
   ]
  },
  {
   "cell_type": "code",
   "execution_count": 25,
   "metadata": {},
   "outputs": [
    {
     "name": "stdout",
     "output_type": "stream",
     "text": [
      "Iteration: 1\n",
      "Iteration: 2\n",
      "Iteration: 3\n",
      "Iteration: 4\n",
      "Iteration: 5\n",
      "Iteration: 6\n",
      "Iteration: 7\n",
      "Iteration: 8\n",
      "Iteration: 9\n",
      "Iteration: 10\n",
      "Iteration: 11\n",
      "Iteration: 12\n",
      "Iteration: 13\n",
      "Iteration: 14\n",
      "Iteration: 15\n",
      "Iteration: 16\n",
      "Iteration: 17\n",
      "Iteration: 18\n",
      "Iteration: 19\n",
      "Iteration: 20\n",
      "Iteration: 21\n",
      "Iteration: 22\n",
      "Iteration: 23\n",
      "Iteration: 24\n",
      "Iteration: 25\n",
      "Iteration: 26\n"
     ]
    },
    {
     "data": {
      "image/png": "[encoded data removed]",
      "text/plain": [
       "<Figure size 432x288 with 1 Axes>"
      ]
     },
     "metadata": {
      "needs_background": "light"
     },
     "output_type": "display_data"
    },
    {
     "name": "stdout",
     "output_type": "stream",
     "text": [
      "Iteration: 27\n",
      "Iteration: 28\n",
      "Iteration: 29\n",
      "Iteration: 30\n",
      "Iteration: 31\n",
      "Iteration: 32\n",
      "Iteration: 33\n",
      "Iteration: 34\n",
      "Iteration: 35\n",
      "Iteration: 36\n",
      "Iteration: 37\n",
      "Iteration: 38\n",
      "Iteration: 39\n",
      "Iteration: 40\n",
      "Iteration: 41\n",
      "Iteration: 42\n",
      "Iteration: 43\n",
      "Iteration: 44\n",
      "Iteration: 45\n",
      "Iteration: 46\n",
      "Iteration: 47\n",
      "Iteration: 48\n",
      "Iteration: 49\n",
      "Iteration: 50\n",
      "Iteration: 51\n",
      "Iteration: 52\n",
      "Iteration: 53\n",
      "Iteration: 54\n",
      "Iteration: 55\n",
      "Iteration: 56\n",
      "Iteration: 57\n",
      "Iteration: 58\n",
      "Iteration: 59\n",
      "Iteration: 60\n",
      "Iteration: 61\n",
      "Iteration: 62\n",
      "Iteration: 63\n",
      "Iteration: 64\n",
      "Iteration: 65\n",
      "Iteration: 66\n",
      "Iteration: 67\n",
      "Iteration: 68\n",
      "Iteration: 69\n",
      "Iteration: 70\n",
      "Iteration: 71\n",
      "Iteration: 72\n",
      "Iteration: 73\n",
      "Iteration: 74\n",
      "Iteration: 75\n",
      "Iteration: 76\n"
     ]
    },
    {
     "data": {
      "image/png": "[encoded data removed]",
      "text/plain": [
       "<Figure size 432x288 with 1 Axes>"
      ]
     },
     "metadata": {
      "needs_background": "light"
     },
     "output_type": "display_data"
    },
    {
     "name": "stdout",
     "output_type": "stream",
     "text": [
      "Iteration: 77\n",
      "Iteration: 78\n",
      "Iteration: 79\n",
      "Iteration: 80\n",
      "Iteration: 81\n",
      "Iteration: 82\n",
      "Iteration: 83\n",
      "Iteration: 84\n",
      "Iteration: 85\n",
      "Iteration: 86\n",
      "Iteration: 87\n",
      "Iteration: 88\n",
      "Iteration: 89\n",
      "Iteration: 90\n",
      "Iteration: 91\n",
      "Iteration: 92\n",
      "Iteration: 93\n",
      "Iteration: 94\n",
      "Iteration: 95\n",
      "Iteration: 96\n",
      "Iteration: 97\n",
      "Iteration: 98\n",
      "Iteration: 99\n",
      "Iteration: 100\n",
      "Iteration: 101\n",
      "Iteration: 102\n",
      "Iteration: 103\n",
      "Iteration: 104\n",
      "Iteration: 105\n",
      "Iteration: 106\n",
      "Iteration: 107\n",
      "Iteration: 108\n",
      "Iteration: 109\n",
      "Iteration: 110\n",
      "Iteration: 111\n",
      "Iteration: 112\n",
      "Iteration: 113\n",
      "Iteration: 114\n",
      "Iteration: 115\n",
      "Iteration: 116\n",
      "Iteration: 117\n",
      "Iteration: 118\n",
      "Iteration: 119\n",
      "Iteration: 120\n",
      "Iteration: 121\n",
      "Iteration: 122\n",
      "Iteration: 123\n",
      "Iteration: 124\n",
      "Iteration: 125\n",
      "Iteration: 126\n"
     ]
    },
    {
     "data": {
      "image/png": "[encoded data removed]",
      "text/plain": [
       "<Figure size 432x288 with 1 Axes>"
      ]
     },
     "metadata": {
      "needs_background": "light"
     },
     "output_type": "display_data"
    },
    {
     "name": "stdout",
     "output_type": "stream",
     "text": [
      "Iteration: 127\n",
      "Iteration: 128\n",
      "Iteration: 129\n",
      "Iteration: 130\n",
      "Iteration: 131\n",
      "Iteration: 132\n",
      "Iteration: 133\n",
      "Iteration: 134\n",
      "Iteration: 135\n",
      "Iteration: 136\n",
      "Iteration: 137\n",
      "Iteration: 138\n",
      "Iteration: 139\n",
      "Iteration: 140\n",
      "Iteration: 141\n",
      "Iteration: 142\n",
      "Iteration: 143\n",
      "Iteration: 144\n",
      "Iteration: 145\n",
      "Iteration: 146\n",
      "Iteration: 147\n",
      "Iteration: 148\n",
      "Iteration: 149\n",
      "Iteration: 150\n",
      "Iteration: 151\n",
      "Iteration: 152\n",
      "Iteration: 153\n",
      "Iteration: 154\n",
      "Iteration: 155\n",
      "Iteration: 156\n",
      "Iteration: 157\n",
      "Iteration: 158\n",
      "Iteration: 159\n",
      "Iteration: 160\n",
      "Iteration: 161\n",
      "Iteration: 162\n",
      "Iteration: 163\n",
      "Iteration: 164\n",
      "Iteration: 165\n",
      "Iteration: 166\n",
      "Iteration: 167\n",
      "Iteration: 168\n",
      "Iteration: 169\n",
      "Iteration: 170\n",
      "Iteration: 171\n",
      "Iteration: 172\n",
      "Iteration: 173\n",
      "Iteration: 174\n",
      "Iteration: 175\n",
      "Iteration: 176\n"
     ]
    },
    {
     "data": {
      "image/png": "[encoded data removed]",
      "text/plain": [
       "<Figure size 432x288 with 1 Axes>"
      ]
     },
     "metadata": {
      "needs_background": "light"
     },
     "output_type": "display_data"
    },
    {
     "name": "stdout",
     "output_type": "stream",
     "text": [
      "Iteration: 177\n",
      "Iteration: 178\n",
      "Iteration: 179\n",
      "Iteration: 180\n",
      "Iteration: 181\n",
      "Iteration: 182\n",
      "Iteration: 183\n",
      "Iteration: 184\n",
      "Iteration: 185\n",
      "Iteration: 186\n",
      "Iteration: 187\n",
      "Iteration: 188\n",
      "Iteration: 189\n",
      "Iteration: 190\n",
      "Iteration: 191\n",
      "Iteration: 192\n",
      "Iteration: 193\n",
      "Iteration: 194\n",
      "Iteration: 195\n",
      "Iteration: 196\n",
      "Iteration: 197\n",
      "Iteration: 198\n",
      "Iteration: 199\n",
      "Iteration: 200\n",
      "Iteration: 201\n",
      "Iteration: 202\n",
      "Iteration: 203\n",
      "Iteration: 204\n",
      "Iteration: 205\n",
      "Iteration: 206\n",
      "Iteration: 207\n",
      "Iteration: 208\n",
      "Iteration: 209\n",
      "Iteration: 210\n",
      "Iteration: 211\n",
      "Iteration: 212\n",
      "Iteration: 213\n",
      "Iteration: 214\n",
      "Iteration: 215\n",
      "Converged after iteration 215\n"
     ]
    },
    {
     "data": {
      "image/png": "[encoded data removed]",
      "text/plain": [
       "<Figure size 432x288 with 1 Axes>"
      ]
     },
     "metadata": {
      "needs_background": "light"
     },
     "output_type": "display_data"
    }
   ],
   "source": [
    "from matplotlib import pyplot as plt\n",
    "\n",
    "difference_list = []\n",
    "threshold = 1e-10\n",
    "max_iterations = 10000\n",
    "plot_interval = 50\n",
    "\n",
    "V = V_init.copy()\n",
    "\n",
    "for iteration in range(max_iterations):\n",
    "    print('Iteration: {}'.format(iteration + 1))\n",
    "    \n",
    "    V_new = vf_update_iteration(V)\n",
    "    difference = np.max(np.abs(V_new-V))\n",
    "    \n",
    "    difference_list.append(difference) \n",
    "    \n",
    "    V = V_new.copy()\n",
    "    \n",
    "    if difference < threshold:\n",
    "        print('Converged after iteration {}'.format(iteration + 1))\n",
    "        \n",
    "        plt.figure()\n",
    "        plt.plot(k_grid[0,:], V[0,:], label='s=1')\n",
    "        plt.plot(k_grid[0,:], V[1,:], label='s=2')\n",
    "        plt.xlabel('k')\n",
    "        plt.ylabel('V(k)')\n",
    "        plt.title('Value function after convergence')\n",
    "        plt.show();\n",
    "        break\n",
    "        \n",
    "    if iteration%plot_interval == 25:\n",
    "        \n",
    "        plt.figure()\n",
    "        plt.plot(np.arange(1, iteration+2), np.log10(np.array(difference_list)))\n",
    "        plt.xlabel('Iteration')\n",
    "        plt.ylabel('Maximum update [log10]')\n",
    "        plt.show();"
   ]
  }
 ],
 "metadata": {
  "kernelspec": {
   "display_name": "Python 3",
   "language": "python",
   "name": "python3"
  },
  "language_info": {
   "codemirror_mode": {
    "name": "ipython",
    "version": 3
   },
   "file_extension": ".py",
   "mimetype": "text/x-python",
   "name": "python",
   "nbconvert_exporter": "python",
   "pygments_lexer": "ipython3",
   "version": "3.7.3"
  }
 },
 "nbformat": 4,
 "nbformat_minor": 2
}
