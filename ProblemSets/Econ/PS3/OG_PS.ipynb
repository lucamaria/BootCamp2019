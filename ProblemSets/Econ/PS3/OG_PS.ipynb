{
 "cells": [
  {
   "cell_type": "code",
   "execution_count": 1,
   "metadata": {},
   "outputs": [],
   "source": [
    "import numpy as np\n",
    "import matplotlib.pyplot as plt"
   ]
  },
  {
   "cell_type": "code",
   "execution_count": 2,
   "metadata": {},
   "outputs": [],
   "source": [
    "A=1\n",
    "alpha = .35\n",
    "beta = .442\n",
    "delta = .6415\n",
    "sigma = 3.\n",
    "nvec= np.array([1.,1.,0.2])\n",
    "r= 0.05\n",
    "SS_tol=1e-8\n",
    "p= (beta, sigma, nvec, A, alpha, delta, SS_tol)"
   ]
  },
  {
   "cell_type": "markdown",
   "metadata": {},
   "source": [
    "# Chapter 2\n",
    "## Exercise 1"
   ]
  },
  {
   "cell_type": "code",
   "execution_count": 3,
   "metadata": {},
   "outputs": [],
   "source": [
    "def get_K(b,p):\n",
    "    K=sum(b)\n",
    "    return K\n",
    "def get_L(nvec,p):\n",
    "    L=sum(nvec)\n",
    "    return L\n",
    "def get_r(L,K,p):\n",
    "    (beta, sigma, nvec, A, alpha, delta, SS_tol)=p\n",
    "    r=alpha*A*(L/K)**(1-alpha)-delta\n",
    "    return r\n",
    "\n",
    "def get_w(L,K,p):\n",
    "    (beta, sigma, nvec, A, alpha, delta, SS_tol)=p\n",
    "    w=(1-alpha)*A*(K/L)**(alpha)\n",
    "    return w\n",
    "\n",
    "def get_C(nvec,w,r,b,p):\n",
    "    (beta, sigma, nvec, A, alpha, delta, SS_tol)=p\n",
    "    c=np.zeros(3)\n",
    "    c[0]=w*nvec[0]-b[0]\n",
    "    c[1]=w*nvec[1]+(1+r)*b[0]-b[1]\n",
    "    c[2]=w*nvec[2]+(1+r)*b[1]\n",
    "    return c\n",
    "\n",
    "def get_uprime(c,p):\n",
    "    (beta, sigma, nvec, A, alpha, delta, SS_tol)=p\n",
    "    uprime=c**(-sigma)\n",
    "    return uprime\n",
    "\n",
    "def Equation_solve(bvec_guess, nvec,p):\n",
    "    (beta, sigma, nvec, A, alpha, delta, SS_tol)=p\n",
    "    K=get_K(bvec_guess,p)\n",
    "    L=get_L(nvec,p)\n",
    "    r=get_r(L,K,p)\n",
    "    w=get_w(L,K,p)\n",
    "    c=get_C(nvec,w,r,bvec_guess,p)\n",
    "    return K,L,r,w,c"
   ]
  },
  {
   "cell_type": "code",
   "execution_count": 4,
   "metadata": {},
   "outputs": [],
   "source": [
    "def feasible(p, bvec_guess, nvec):\n",
    "    (beta, sigma, nvec, A, alpha, delta, SS_tol)=p\n",
    "    \n",
    "    K,L,r,w,c=Equation_solve(bvec_guess,nvec,p)\n",
    "    \n",
    "    #initialize\n",
    "    K_constr = True\n",
    "    \n",
    "    if K<=0:\n",
    "        K_cnstr = True\n",
    "    else:\n",
    "        K_cnstr = False\n",
    "    \n",
    "    if K_cnstr==True:\n",
    "        print(\"Capital constraint violated\")\n",
    "    \n",
    "    #initialize\n",
    "    c_cnstr= np.array([True, False, False])\n",
    "    \n",
    "    for ii in range(len(c)):\n",
    "        if c[ii]<=0:\n",
    "            c_cnstr[ii]=True\n",
    "        elif c[ii]>0:\n",
    "            c_cnstr[ii]=False\n",
    "    if any(c_cnstr):\n",
    "        print(\"Consumption constraint violated\")\n",
    "            \n",
    "    b_cnstr = np.array([False, False])\n",
    "    for ii in range(len(c_cnstr)):\n",
    "        if ii== 0 and c_cnstr[ii]==True:\n",
    "            b_cnstr[0]=True\n",
    "        if ii==1 and c_cnstr[ii]==True:\n",
    "            b_cnstr[0]=True\n",
    "            b_cnstr[1]=True\n",
    "        elif ii==3 and c_cnstr[ii]==True:\n",
    "            b_cnstr[1]==True\n",
    "    if any(b_cnstr):\n",
    "        print(\"Borrowing constraint violated\")\n",
    "    \n",
    "    if not any(b_cnstr) and not any(c_cnstr) and K_cnstr==False:\n",
    "        print(\"No constraint violated\")\n",
    "\n",
    "    return b_cnstr, c_cnstr, K_cnstr"
   ]
  },
  {
   "cell_type": "code",
   "execution_count": 5,
   "metadata": {},
   "outputs": [
    {
     "name": "stdout",
     "output_type": "stream",
     "text": [
      "Consumption constraint violated\n",
      "Borrowing constraint violated\n"
     ]
    },
    {
     "data": {
      "text/plain": [
       "(array([ True, False]), array([ True, False, False]), False)"
      ]
     },
     "execution_count": 5,
     "metadata": {},
     "output_type": "execute_result"
    }
   ],
   "source": [
    "#c\n",
    "bvec_guess=np.array([1.0, 1.2])\n",
    "feasible(p, bvec_guess, nvec)"
   ]
  },
  {
   "cell_type": "code",
   "execution_count": 6,
   "metadata": {},
   "outputs": [
    {
     "name": "stdout",
     "output_type": "stream",
     "text": [
      "No constraint violated\n"
     ]
    },
    {
     "data": {
      "text/plain": [
       "(array([False, False]), array([False, False, False]), False)"
      ]
     },
     "execution_count": 6,
     "metadata": {},
     "output_type": "execute_result"
    }
   ],
   "source": [
    "#b\n",
    "bvec_guess=np.array([0.06, -0.001])\n",
    "feasible(p, bvec_guess,nvec)"
   ]
  },
  {
   "cell_type": "code",
   "execution_count": 7,
   "metadata": {},
   "outputs": [
    {
     "name": "stdout",
     "output_type": "stream",
     "text": [
      "No constraint violated\n"
     ]
    },
    {
     "data": {
      "text/plain": [
       "(array([False, False]), array([False, False, False]), False)"
      ]
     },
     "execution_count": 7,
     "metadata": {},
     "output_type": "execute_result"
    }
   ],
   "source": [
    "#c\n",
    "bvec_guess = np.array([0.1, 0.1])\n",
    "feasible(p, bvec_guess,nvec)"
   ]
  },
  {
   "cell_type": "code",
   "execution_count": 8,
   "metadata": {},
   "outputs": [],
   "source": [
    "import time\n",
    "import scipy.optimize as opt"
   ]
  },
  {
   "cell_type": "code",
   "execution_count": 9,
   "metadata": {},
   "outputs": [],
   "source": [
    "def get_EulerErrors(bvec_guess,nvec,p):\n",
    "    (beta, sigma, nvec, A, alpha, delta, SS_tol)=p\n",
    "    \n",
    "    K=get_K(bvec_guess,p)\n",
    "    L=get_L(nvec,p)\n",
    "    r=get_r(L,K,p)\n",
    "    w=get_w(L,K,p)\n",
    "    c=get_C(nvec,w,r,bvec_guess,p)\n",
    "    err1=beta*(1+r)*get_uprime(c[2],p)-get_uprime(c[1],p)\n",
    "    err2=beta*(1+r)*get_uprime(c[1],p)-get_uprime(c[0],p)\n",
    "    \n",
    "    return err1,err2"
   ]
  },
  {
   "cell_type": "code",
   "execution_count": 10,
   "metadata": {},
   "outputs": [],
   "source": [
    "def get_SS(bvec_guess, nvec,p, SS_graphs=False):\n",
    "    start_time = time.clock()\n",
    "    (beta, sigma, nvec, A, alpha, delta, SS_tol)=p\n",
    "    solution = opt.root(get_EulerErrors, bvec_guess,args=(nvec,p), tol = SS_tol)\n",
    "    b_ss=solution.x\n",
    "    L=get_L(nvec,p)\n",
    "    K_ss=get_K(b_ss,p)\n",
    "    r_ss=get_r(L,K_ss,p)\n",
    "    w_ss=get_w(L,K_ss,p)\n",
    "    c_ss=get_C(nvec,w_ss,r_ss,b_ss,p)\n",
    "    Y_ss=c_ss+delta*K_ss\n",
    "    err1,err2=get_EulerErrors(b_ss,nvec,p)\n",
    "    ss_time = time.clock() - start_time\n",
    "    ss_output = {\n",
    "    'b_ss': b_ss, 'c_ss': c_ss, 'w_ss': w_ss, 'r_ss': r_ss,\n",
    "    'K_ss': K_ss, 'Y_ss': Y_ss, 'EulErr_ss': err1, 'RCerr_ss': err2,'ss_time': ss_time}\n",
    "    \n",
    "    if SS_graphs==True:\n",
    "        period=np.array([1,2,3])\n",
    "        plt.plot(period,c_ss, label=\"Consumption\")\n",
    "        plt.plot(period[1:],b_ss, label=\"Savings\")\n",
    "        plt.legend()\n",
    "        plt.xlabel(\"Life-Period\")\n",
    "        plt.ylabel(\"level\")\n",
    "        plt.show()\n",
    "    \n",
    "    return ss_output"
   ]
  },
  {
   "cell_type": "code",
   "execution_count": 11,
   "metadata": {},
   "outputs": [
    {
     "name": "stderr",
     "output_type": "stream",
     "text": [
      "C:\\Users\\schue\\Anaconda3\\lib\\site-packages\\ipykernel_launcher.py:2: DeprecationWarning: time.clock has been deprecated in Python 3.3 and will be removed from Python 3.8: use time.perf_counter or time.process_time instead\n",
      "  \n",
      "C:\\Users\\schue\\Anaconda3\\lib\\site-packages\\ipykernel_launcher.py:13: DeprecationWarning: time.clock has been deprecated in Python 3.3 and will be removed from Python 3.8: use time.perf_counter or time.process_time instead\n",
      "  del sys.path[0]\n"
     ]
    },
    {
     "data": {
      "image/png": "[encoded data removed]",
      "text/plain": [
       "<Figure size 432x288 with 1 Axes>"
      ]
     },
     "metadata": {
      "needs_background": "light"
     },
     "output_type": "display_data"
    },
    {
     "data": {
      "text/plain": [
       "{'b_ss': array([0.01931253, 0.0584111 ]),\n",
       " 'c_ss': array([0.18241213, 0.20961468, 0.24087387]),\n",
       " 'w_ss': 0.20172465739052575,\n",
       " 'r_ss': 2.433062339127069,\n",
       " 'K_ss': 0.07772362575316386,\n",
       " 'Y_ss': array([0.23227183, 0.25947439, 0.29073357]),\n",
       " 'EulErr_ss': -2.5437429940211587e-12,\n",
       " 'RCerr_ss': 1.2505552149377763e-12,\n",
       " 'ss_time': 0.001483799999999924}"
      ]
     },
     "execution_count": 11,
     "metadata": {},
     "output_type": "execute_result"
    }
   ],
   "source": [
    "A=1\n",
    "alpha = .35\n",
    "beta = .442\n",
    "delta = .6415\n",
    "sigma = 3.\n",
    "nvec= np.array([1.,1.,0.2])\n",
    "p = (beta, sigma, nvec, A, alpha, delta, SS_tol)\n",
    "get_SS(bvec_guess, nvec,p, SS_graphs=True)"
   ]
  },
  {
   "cell_type": "code",
   "execution_count": 12,
   "metadata": {},
   "outputs": [
    {
     "name": "stderr",
     "output_type": "stream",
     "text": [
      "C:\\Users\\schue\\Anaconda3\\lib\\site-packages\\ipykernel_launcher.py:2: DeprecationWarning: time.clock has been deprecated in Python 3.3 and will be removed from Python 3.8: use time.perf_counter or time.process_time instead\n",
      "  \n",
      "C:\\Users\\schue\\Anaconda3\\lib\\site-packages\\ipykernel_launcher.py:13: DeprecationWarning: time.clock has been deprecated in Python 3.3 and will be removed from Python 3.8: use time.perf_counter or time.process_time instead\n",
      "  del sys.path[0]\n"
     ]
    },
    {
     "data": {
      "image/png": "[encoded data removed]",
      "text/plain": [
       "<Figure size 432x288 with 1 Axes>"
      ]
     },
     "metadata": {
      "needs_background": "light"
     },
     "output_type": "display_data"
    },
    {
     "data": {
      "text/plain": [
       "{'b_ss': array([0.02817692, 0.07686545]),\n",
       " 'c_ss': array([0.19597528, 0.22861594, 0.26669307]),\n",
       " 'w_ss': 0.22415219593446706,\n",
       " 'r_ss': 1.8863765057189819,\n",
       " 'K_ss': 0.1050423702259807,\n",
       " 'Y_ss': array([0.26335996, 0.29600062, 0.33407775]),\n",
       " 'EulErr_ss': -2.4726887204451486e-12,\n",
       " 'RCerr_ss': -6.963318810448982e-12,\n",
       " 'ss_time': 0.002154499999999615}"
      ]
     },
     "execution_count": 12,
     "metadata": {},
     "output_type": "execute_result"
    }
   ],
   "source": [
    "A=1\n",
    "alpha = .35\n",
    "beta = .55\n",
    "delta = .6415\n",
    "sigma = 3.\n",
    "nvec= np.array([1.,1.,0.2])\n",
    "p = (beta, sigma, nvec, A, alpha, delta, SS_tol)\n",
    "get_SS(bvec_guess, nvec,p, SS_graphs=True)"
   ]
  },
  {
   "cell_type": "markdown",
   "metadata": {},
   "source": [
    "Intuition: As beta rises, agents become more \"patient\" and hence, more capital can be accumulated, which in turn increases aggregate output and allows overall for more consumption in an economy in the steady state."
   ]
  },
  {
   "cell_type": "markdown",
   "metadata": {},
   "source": [
    "## Exercise 3:\n",
    "Note: Uta kindly took her time to help me getting it to run, as I sat over the same bug for hours. "
   ]
  },
  {
   "cell_type": "code",
   "execution_count": 13,
   "metadata": {},
   "outputs": [],
   "source": [
    "#Time path iteration\n",
    "def get_C2(n,w,r,b2,b3,p):\n",
    "    (beta, sigma, nvec, A, alpha, delta, SS_tol)=p\n",
    "    c=np.zeros(2)\n",
    "    c[0]=w[1]*n[1]+(1+r[0])*b2-b3\n",
    "    c[1]=w[2]*n[2]+(1+r[1])*b3\n",
    "    return c\n",
    "\n",
    "def EE2(b3,b2,n,w,r,p):\n",
    "    (beta, sigma, nvec, A, alpha, delta, SS_tol)=p\n",
    "    c=get_C2(n,w,r,b2,b3,p)\n",
    "    err2=beta*(1+r[1])*get_uprime(c[1],p)-get_uprime(c[0],p)\n",
    "    return err2\n",
    "\n",
    "def get_C3(nvec,w,r,b,p):\n",
    "    (beta, sigma, nvec, A, alpha, delta, SS_tol)=p\n",
    "    c=np.zeros(3)\n",
    "    c[0]=w[0]*nvec[0]-b[0]\n",
    "    c[1]=w[1]*nvec[1]+(1+r[0])*b[0]-b[1]\n",
    "    c[2]=w[2]*nvec[2]+(1+r[1])*b[1]\n",
    "    return c\n",
    "\n",
    "def EE1(bvec_guess,n,w,r,p):\n",
    "    (beta, sigma, nvec, A, alpha, delta, SS_tol)=p\n",
    "    c=get_C3(n,w,r,bvec_guess,p)\n",
    "    err2=get_uprime(c[0],p)-beta*(1+r[1])*get_uprime(c[1],p)\n",
    "    err1=get_uprime(c[1],p)-beta*(1+r[2])*get_uprime(c[2],p)\n",
    "    return err1,err2\n",
    "\n",
    "def tpi(b_init,Kpath,eps,tguess,bvec_guess,nvec):\n",
    "    K=np.zeros(tguess)\n",
    "    K[0]=Kpath[0]\n",
    "    bo=np.zeros(tguess+2)\n",
    "    bm=np.zeros(tguess+2)\n",
    "    b2=b_init[0]\n",
    "    L=get_L(nvec,p)\n",
    "    for j in range(0,maxiter):\n",
    "        Kappend=np.append(Kpath,[Kpath[tguess-1],Kpath[tguess-1]])\n",
    "        r=get_r(L,Kappend,p)\n",
    "        w=get_w(L,Kappend,p)\n",
    "        for t in range(0,tguess-1):\n",
    "            rt=np.array([r[t],r[t+1],r[t+2]])\n",
    "            wt=np.array([w[t],w[t+1],w[t+2]])\n",
    "            res=opt.root(EE2, bvec_guess[0],args=(b2,nvec,wt,rt,p), tol = 1e-10)\n",
    "            bo[0]=res.x\n",
    "            b= opt.root(EE1, bvec_guess,args=(nvec,wt,rt,p), tol = 1e-10)\n",
    "            bm[t]=b.x[0]\n",
    "            K[t+1]=bo[t]+bm[t]\n",
    "            bo[t+1]=b.x[1]\n",
    "            \n",
    "        err=np.sqrt(sum((Kpath-K)**2))\n",
    "        if err>eps:\n",
    "            Kpath=Kpath*(1-xsi)+K*(xsi)\n",
    "        else:\n",
    "            print(\"CONVERGENCE ACHIEVED at Iteration \"+str(j))\n",
    "            break\n",
    "            \n",
    "    return Kpath,err,j,r,w"
   ]
  },
  {
   "cell_type": "code",
   "execution_count": 14,
   "metadata": {},
   "outputs": [
    {
     "name": "stderr",
     "output_type": "stream",
     "text": [
      "C:\\Users\\schue\\Anaconda3\\lib\\site-packages\\ipykernel_launcher.py:2: DeprecationWarning: time.clock has been deprecated in Python 3.3 and will be removed from Python 3.8: use time.perf_counter or time.process_time instead\n",
      "  \n",
      "C:\\Users\\schue\\Anaconda3\\lib\\site-packages\\ipykernel_launcher.py:13: DeprecationWarning: time.clock has been deprecated in Python 3.3 and will be removed from Python 3.8: use time.perf_counter or time.process_time instead\n",
      "  del sys.path[0]\n"
     ]
    },
    {
     "name": "stdout",
     "output_type": "stream",
     "text": [
      "CONVERGENCE ACHIEVED at Iteration 36\n",
      "K_Path [0.10709353 0.10023821 0.10287566 0.10334692 0.10392307 0.10427069\n",
      " 0.10451711 0.10468382 0.10479791 0.10487568 0.10492874 0.10496491\n",
      " 0.10498958 0.10500639 0.10501785 0.10502566 0.10503098 0.10503461\n",
      " 0.10503708 0.10503876 0.10503991 0.1050407  0.10504123 0.10504159\n",
      " 0.10504184 0.10504201 0.10504212 0.1050422  0.10504226 0.10504229\n",
      " 0.10504232 0.10504233 0.10504235 0.10504235 0.10504236 0.10504236\n",
      " 0.10504236 0.10504237 0.10504237 0.10504237 0.10504237 0.10504237\n",
      " 0.10504237 0.10504237 0.10504237 0.10504237 0.10504237 0.10504237\n",
      " 0.10504237 0.10504237]\n",
      "Euler Error 7.393085478147242e-10\n"
     ]
    },
    {
     "data": {
      "text/plain": [
       "array([ 1,  2,  3,  4,  5,  6,  7,  8,  9, 10, 11, 12, 13, 14, 15, 16, 17,\n",
       "       18, 19, 20, 21, 22, 23, 24, 25, 26, 27, 28, 29, 30, 31, 32, 33, 34,\n",
       "       35, 36, 37, 38, 39, 40, 41, 42, 43, 44, 45, 46, 47, 48, 49],\n",
       "      dtype=int64)"
      ]
     },
     "execution_count": 14,
     "metadata": {},
     "output_type": "execute_result"
    },
    {
     "data": {
      "image/png": "[encoded data removed]",
      "text/plain": [
       "<Figure size 432x288 with 1 Axes>"
      ]
     },
     "metadata": {
      "needs_background": "light"
     },
     "output_type": "display_data"
    },
    {
     "data": {
      "image/png": "[encoded data removed]",
      "text/plain": [
       "<Figure size 432x288 with 1 Axes>"
      ]
     },
     "metadata": {
      "needs_background": "light"
     },
     "output_type": "display_data"
    },
    {
     "data": {
      "image/png": "[encoded data removed]",
      "text/plain": [
       "<Figure size 432x288 with 1 Axes>"
      ]
     },
     "metadata": {
      "needs_background": "light"
     },
     "output_type": "display_data"
    }
   ],
   "source": [
    "beta=0.55\n",
    "tguess=50\n",
    "bvec_guess = np.array([.1, .1])\n",
    "p = (beta, sigma, nvec, A, alpha, delta, SS_tol)\n",
    "results = get_SS(bvec_guess, nvec,p, SS_graphs=False)\n",
    "\n",
    "b_ss=results['b_ss']\n",
    "K_ss=results['K_ss']\n",
    "b_init=np.array([0.8*b_ss[0],1.1*b_ss[1]])\n",
    "K_init=get_K(b_init,p)\n",
    "xsi=0.8\n",
    "eps=1e-9\n",
    "maxiter=1000\n",
    "nvec=np.array([1.0,1.0,.2])\n",
    "\n",
    "Kguess=np.linspace(K_init,K_ss,tguess )\n",
    "Kout, err,j,rpath,wpath=tpi(b_init,Kguess,eps,tguess,bvec_guess ,nvec)\n",
    "print(\"K_Path \"+ str(Kout))\n",
    "print(\"Euler Error \" + str(err))\n",
    "\n",
    "timeax=np.linspace(1,tguess,num=tguess)\n",
    "plt.figure(1)\n",
    "plt.plot(timeax, Kout)\n",
    "plt.title(\"capital path\")\n",
    "plt.figure(2)\n",
    "plt.plot(timeax, rpath[0:tguess])\n",
    "plt.title(\"interest rate path\")\n",
    "plt.figure(3)\n",
    "plt.plot(timeax, wpath[0:tguess])\n",
    "plt.title(\"wage path\")\n",
    "\n",
    "time_toSS=(Kout-K_ss)<0.00001\n",
    "np.where(time_toSS)[0]"
   ]
  }
 ],
 "metadata": {
  "kernelspec": {
   "display_name": "Python 3",
   "language": "python",
   "name": "python3"
  },
  "language_info": {
   "codemirror_mode": {
    "name": "ipython",
    "version": 3
   },
   "file_extension": ".py",
   "mimetype": "text/x-python",
   "name": "python",
   "nbconvert_exporter": "python",
   "pygments_lexer": "ipython3",
   "version": "3.7.3"
  }
 },
 "nbformat": 4,
 "nbformat_minor": 2
}
