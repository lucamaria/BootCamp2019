{
 "cells": [
  {
   "cell_type": "markdown",
   "metadata": {},
   "source": [
    "# Heterogeneous Agents "
   ]
  },
  {
   "cell_type": "code",
   "execution_count": 1,
   "metadata": {},
   "outputs": [],
   "source": [
    "import numpy as np\n",
    "from scipy import optimize\n",
    "import matplotlib.pyplot as plt\n",
    "import random"
   ]
  },
  {
   "cell_type": "code",
   "execution_count": 2,
   "metadata": {},
   "outputs": [],
   "source": [
    "beta = 0.96\n",
    "delta = 0.06\n",
    "alpha = 0.36\n",
    "u = 0.1\n",
    "k_low = 0.001\n",
    "k_high = 40\n",
    "params = beta, delta, alpha, u\n",
    "transition = np.array([[0.9, 0.1], [0.9, 0.1]])\n"
   ]
  },
  {
   "cell_type": "code",
   "execution_count": 3,
   "metadata": {},
   "outputs": [],
   "source": [
    "def get_kstar(kstar, *params):\n",
    "    beta, delta, alpha, u= params\n",
    "    f= (1-beta*(1-delta)*(alpha*np.sign(kstar)*np.abs(kstar)**(alpha-1))*(1-u)**(1-alpha)+(1-alpha)*np.sign(kstar)*np.abs(kstar)**(alpha)*(1-u)**(-alpha))/(beta*(1-delta)**(2)-beta*(1-delta)-(1-delta) + 1)-kstar\n",
    "    return f"
   ]
  },
  {
   "cell_type": "code",
   "execution_count": 4,
   "metadata": {},
   "outputs": [
    {
     "data": {
      "text/plain": [
       "array([0.10389588])"
      ]
     },
     "execution_count": 4,
     "metadata": {},
     "output_type": "execute_result"
    }
   ],
   "source": [
    "optimize.fsolve(get_kstar, 0.1, params)"
   ]
  },
  {
   "cell_type": "code",
   "execution_count": 5,
   "metadata": {},
   "outputs": [],
   "source": [
    "def get_kbar(params):\n",
    "    beta, delta, alpha, u = params\n",
    "    f= (alpha*beta/(1-beta*(1-delta)))**(1/(1-alpha))\n",
    "    return f\n",
    "\n",
    "def get_w(kbar):\n",
    "    w= (1-alpha)*kbar**(alpha)*(1-u)**(-alpha)\n",
    "    return w\n",
    "\n",
    "def get_r(kbar):\n",
    "    r= alpha*kbar**(alpha-1)*(1-u)**(1-alpha)\n",
    "    return r"
   ]
  },
  {
   "cell_type": "code",
   "execution_count": 6,
   "metadata": {},
   "outputs": [],
   "source": [
    "def het_gents(kbar, k_low, k_high, transition, params, N = 200, thresh = 1e-16, maxiters = 1000):\n",
    "    beta, delta, alpha, u = params\n",
    "    random.seed(111)\n",
    "    kgrid= np.linspace(k_low, k_high, N)\n",
    "    V_old= np.zeros((2,N))\n",
    "    V_new= np.zeros_like(V_old)\n",
    "    obj= np.zeros_like(V_old)\n",
    "    c= np.zeros_like(V_old)\n",
    "    pol_f= np.zeros_like(V_old)\n",
    "    diff= 15\n",
    "    itr= 0\n",
    "\n",
    "    while diff > thresh and itr <= maxiters:\n",
    "        for i in range(len(kgrid)):\n",
    "            k = kgrid[i]\n",
    "            r = get_r(kbar)\n",
    "            w = get_w(kbar)\n",
    "            c[0, :] = r*k + w*1 + (1 - delta)*k - kgrid\n",
    "            c[1, :] = r*k + w*0 + (1 - delta)*k - kgrid   \n",
    "            obj[c <= 0] = -999999\n",
    "            obj[c > 0]= np.log(c[c > 0])\n",
    "            V = obj + beta*(np.dot(transition, V_old))\n",
    "            V_new[:, i] = np.amax(V, axis = 1) \n",
    "            max_ind = np.argmax(V, axis = 1)\n",
    "            pol_f[:, i] = kgrid[max_ind]\n",
    "        diff = np.linalg.norm(V_new - V_old)**(2)\n",
    "        V_old = V_new.copy()\n",
    "        itr += 1\n",
    "        \n",
    "        if diff <= thresh or itr == maxiters:\n",
    "            print(\"Iteration:\", str(itr), str(diff))\n",
    "        \n",
    "    return pol_f, V_new, kgrid"
   ]
  },
  {
   "cell_type": "code",
   "execution_count": 7,
   "metadata": {},
   "outputs": [
    {
     "name": "stdout",
     "output_type": "stream",
     "text": [
      "Iteration: 485 9.839947355591388e-17\n"
     ]
    }
   ],
   "source": [
    "kbar = get_kbar(params)\n",
    "pol_f, V_new, kgrid = het_gents(kbar, k_low, k_high, transition, params, N = 200, thresh = 1e-16, maxiters = 1000)"
   ]
  },
  {
   "cell_type": "code",
   "execution_count": 8,
   "metadata": {},
   "outputs": [
    {
     "data": {
      "image/png": "[encoded data removed]",
      "text/plain": [
       "<Figure size 648x432 with 1 Axes>"
      ]
     },
     "metadata": {
      "needs_background": "light"
     },
     "output_type": "display_data"
    }
   ],
   "source": [
    "fig = plt.figure(figsize=(9,6))\n",
    "plt.plot(kgrid, pol_f[0, :], color = \"g\", label = \"Policy eps = 1\")\n",
    "plt.plot(kgrid, pol_f[1, :], color = \"b\", label = \"Policy eps = 0\")\n",
    "plt.plot(kgrid, kgrid, color = \"purple\", label = \"45° line\")\n",
    "plt.legend()\n",
    "plt.show();"
   ]
  },
  {
   "cell_type": "code",
   "execution_count": 9,
   "metadata": {},
   "outputs": [],
   "source": [
    "# Out of time unfortunately"
   ]
  }
 ],
 "metadata": {
  "kernelspec": {
   "display_name": "Python 3",
   "language": "python",
   "name": "python3"
  },
  "language_info": {
   "codemirror_mode": {
    "name": "ipython",
    "version": 3
   },
   "file_extension": ".py",
   "mimetype": "text/x-python",
   "name": "python",
   "nbconvert_exporter": "python",
   "pygments_lexer": "ipython3",
   "version": "3.7.3"
  }
 },
 "nbformat": 4,
 "nbformat_minor": 2
}
