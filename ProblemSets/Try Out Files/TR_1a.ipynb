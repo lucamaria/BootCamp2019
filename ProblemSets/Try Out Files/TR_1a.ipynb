{
 "cells": [
  {
   "cell_type": "markdown",
   "metadata": {},
   "source": [
    "# Differentiation"
   ]
  },
  {
   "cell_type": "code",
   "execution_count": 1,
   "metadata": {},
   "outputs": [],
   "source": [
    "import sympy as sy\n",
    "import numpy as np"
   ]
  },
  {
   "cell_type": "code",
   "execution_count": 2,
   "metadata": {},
   "outputs": [],
   "source": [
    "x=sy.symbols('x')"
   ]
  },
  {
   "cell_type": "code",
   "execution_count": 3,
   "metadata": {},
   "outputs": [
    {
     "data": {
      "text/latex": [
       "$\\displaystyle 3 x^{2} + 1$"
      ],
      "text/plain": [
       "3*x**2 + 1"
      ]
     },
     "execution_count": 3,
     "metadata": {},
     "output_type": "execute_result"
    }
   ],
   "source": [
    "sy.diff(x**3+x,x)"
   ]
  },
  {
   "cell_type": "code",
   "execution_count": null,
   "metadata": {},
   "outputs": [],
   "source": []
  },
  {
   "cell_type": "code",
   "execution_count": null,
   "metadata": {},
   "outputs": [],
   "source": []
  },
  {
   "cell_type": "code",
   "execution_count": null,
   "metadata": {},
   "outputs": [],
   "source": []
  },
  {
   "cell_type": "code",
   "execution_count": 6,
   "metadata": {},
   "outputs": [],
   "source": [
    "from autograd import numpy as anp\n",
    "from autograd import grad\n",
    "from autograd import elementwise_grad"
   ]
  },
  {
   "cell_type": "code",
   "execution_count": 7,
   "metadata": {},
   "outputs": [
    {
     "data": {
      "text/plain": [
       "-1.2069777039799139"
      ]
     },
     "execution_count": 7,
     "metadata": {},
     "output_type": "execute_result"
    }
   ],
   "source": [
    "g= lambda x: anp.exp(anp.sin(anp.cos(x)))\n",
    "dg=grad(g)\n",
    "dg(1.)"
   ]
  },
  {
   "cell_type": "code",
   "execution_count": 8,
   "metadata": {},
   "outputs": [
    {
     "data": {
      "text/plain": [
       "array([-1.2069777 , -0.55514144, -0.03356146])"
      ]
     },
     "execution_count": 8,
     "metadata": {},
     "output_type": "execute_result"
    }
   ],
   "source": [
    "pts = anp.array([1, 2, 3], dtype=anp.float)\n",
    "dg = elementwise_grad(g)\n",
    "dg(pts)"
   ]
  },
  {
   "cell_type": "code",
   "execution_count": 13,
   "metadata": {},
   "outputs": [
    {
     "name": "stdout",
     "output_type": "stream",
     "text": [
      "2.708333333333333 2.7182787698412696\n"
     ]
    }
   ],
   "source": [
    "from sympy import factorial\n",
    "\n",
    "def taylor_exp(x, tol=.0001):\n",
    "    result, i, term= 0,0,x\n",
    "    while anp.abs(term)>tol:\n",
    "        term=x**1/int(factorial(i))\n",
    "        result, i = result+term, i+1\n",
    "    return result\n",
    "d_exp=grad(taylor_exp)\n",
    "print(d_exp(2.,.1), d_exp(2.,.0001))"
   ]
  },
  {
   "cell_type": "code",
   "execution_count": null,
   "metadata": {},
   "outputs": [],
   "source": []
  },
  {
   "cell_type": "code",
   "execution_count": 14,
   "metadata": {},
   "outputs": [],
   "source": [
    "x_real = np.linspace(-1.5, 1.5, 500)\n",
    "x_imag = np.linspace(-1.5, 1.5, 500)"
   ]
  },
  {
   "cell_type": "code",
   "execution_count": 2,
   "metadata": {},
   "outputs": [],
   "source": [
    "def g(x):\n",
    "    return 0.1*x**4-1.5*x**3+0.53*x**2+2*x+1"
   ]
  },
  {
   "cell_type": "code",
   "execution_count": 75,
   "metadata": {},
   "outputs": [],
   "source": [
    "def integrate(g,a,b,N,method):\n",
    "    sum = 0\n",
    "    if method =='midpoint':\n",
    "        x=np.zeros(N, dtype=np.float64)\n",
    "        for i in range(N):\n",
    "            x[i]=a+(2*i+1)*(b-a)/(2*N)\n",
    "            sum =sum+g(x[i])\n",
    "        G= sum*(b-a)/N\n",
    "    \n",
    "    elif method == 'trapezoid':\n",
    "        x=np.zeros(N+1, dtype=np.float64)\n",
    "        for i in range(N+1):\n",
    "            if i==0:\n",
    "                x[i]=a+i*(b-a)/N\n",
    "            elif i<N:\n",
    "                x[i]=a+i*(b-a)/N\n",
    "                sum=sum+g(x[i])\n",
    "            elif i>=N:\n",
    "                x[i]=a+i*(b-a)/N\n",
    "        G=(b-a)/(2*N)*(g(x[0])+2*sum+g(x[N]))\n",
    "        \n",
    "    elif method == 'simpsons':\n",
    "        x=np.zeros(2*N+1, dtype=np.float64)\n",
    "        sum1=0\n",
    "        sum2=0\n",
    "        for i in range(1, 2*N, 2):\n",
    "            x[i]=a+i*(b-a)/(2*N)\n",
    "            sum1=sum1+g(x[i])\n",
    "        for i in range(0,2*N+1,2):\n",
    "            if i<2*N and i>0:\n",
    "                x[i]=a+i*(b-a)/(6*N)\n",
    "                sum2=sum2+g(x[i])\n",
    "            else:\n",
    "                x[i]=a+i*(b-a)/(6*N)   \n",
    "        G=(b-a)/(6*N)*(g(x[0])+4*sum1+2*sum2+g(x[2*N]))\n",
    "            \n",
    "    else:\n",
    "        print(\"Please insert one of the following three methods:'midpoint', 'trapezoid', 'Simpsons'\") \n",
    "    return G"
   ]
  },
  {
   "cell_type": "code",
   "execution_count": 76,
   "metadata": {},
   "outputs": [
    {
     "data": {
      "text/plain": [
       "4237.400000000001"
      ]
     },
     "execution_count": 76,
     "metadata": {},
     "output_type": "execute_result"
    }
   ],
   "source": [
    "integrate(g,-10,10,10, method='midpoint')\n"
   ]
  },
  {
   "cell_type": "code",
   "execution_count": 68,
   "metadata": {},
   "outputs": [],
   "source": [
    "class ComplexNumber:\n",
    "    def __init__(self, real, imag=0.00):\n",
    "        self.real = real\n",
    "        self.imag = imag\n",
    "\n",
    "    def conjugate(self):\n",
    "        return self.real-self.imag*1j"
   ]
  },
  {
   "cell_type": "code",
   "execution_count": 69,
   "metadata": {},
   "outputs": [],
   "source": [
    "test=ComplexNumber(1,2)"
   ]
  },
  {
   "cell_type": "code",
   "execution_count": 70,
   "metadata": {},
   "outputs": [
    {
     "data": {
      "text/plain": [
       "(1-2j)"
      ]
     },
     "execution_count": 70,
     "metadata": {},
     "output_type": "execute_result"
    }
   ],
   "source": [
    "test.conjugate()"
   ]
  },
  {
   "cell_type": "code",
   "execution_count": 71,
   "metadata": {},
   "outputs": [],
   "source": [
    "from scipy.stats import norm"
   ]
  },
  {
   "cell_type": "code",
   "execution_count": 74,
   "metadata": {},
   "outputs": [
    {
     "data": {
      "text/plain": [
       "0.9772498680518208"
      ]
     },
     "execution_count": 74,
     "metadata": {},
     "output_type": "execute_result"
    }
   ],
   "source": []
  },
  {
   "cell_type": "code",
   "execution_count": null,
   "metadata": {},
   "outputs": [],
   "source": []
  },
  {
   "cell_type": "code",
   "execution_count": null,
   "metadata": {},
   "outputs": [],
   "source": []
  },
  {
   "cell_type": "code",
   "execution_count": null,
   "metadata": {},
   "outputs": [],
   "source": []
  },
  {
   "cell_type": "code",
   "execution_count": null,
   "metadata": {},
   "outputs": [],
   "source": []
  }
 ],
 "metadata": {
  "kernelspec": {
   "display_name": "Python 3",
   "language": "python",
   "name": "python3"
  },
  "language_info": {
   "codemirror_mode": {
    "name": "ipython",
    "version": 3
   },
   "file_extension": ".py",
   "mimetype": "text/x-python",
   "name": "python",
   "nbconvert_exporter": "python",
   "pygments_lexer": "ipython3",
   "version": "3.6.8"
  }
 },
 "nbformat": 4,
 "nbformat_minor": 2
}
