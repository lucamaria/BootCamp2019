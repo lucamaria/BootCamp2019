{
 "cells": [
  {
   "cell_type": "code",
   "execution_count": 2,
   "metadata": {},
   "outputs": [],
   "source": [
    "from object_oriented import Backpack"
   ]
  },
  {
   "cell_type": "code",
   "execution_count": 10,
   "metadata": {},
   "outputs": [
    {
     "data": {
      "text/plain": [
       "object_oriented.Backpack"
      ]
     },
     "execution_count": 10,
     "metadata": {},
     "output_type": "execute_result"
    }
   ],
   "source": [
    "my_backpack = Backpack(\"Fred\",\"red\")\n",
    "type(my_backpack)"
   ]
  },
  {
   "cell_type": "code",
   "execution_count": 11,
   "metadata": {},
   "outputs": [
    {
     "name": "stdout",
     "output_type": "stream",
     "text": [
      "Fred []\n"
     ]
    }
   ],
   "source": [
    "print(my_backpack.name, my_backpack.contents)"
   ]
  },
  {
   "cell_type": "code",
   "execution_count": 12,
   "metadata": {},
   "outputs": [
    {
     "name": "stdout",
     "output_type": "stream",
     "text": [
      "George []\n"
     ]
    }
   ],
   "source": [
    "my_backpack.name=\"George\"\n",
    "print(my_backpack.name, my_backpack.contents)"
   ]
  },
  {
   "cell_type": "code",
   "execution_count": 13,
   "metadata": {},
   "outputs": [
    {
     "data": {
      "text/plain": [
       "['notebook', 'pencils']"
      ]
     },
     "execution_count": 13,
     "metadata": {},
     "output_type": "execute_result"
    }
   ],
   "source": [
    "my_backpack.put(\"notebook\")\n",
    "my_backpack.put(\"pencils\")\n",
    "my_backpack.contents"
   ]
  },
  {
   "cell_type": "code",
   "execution_count": 14,
   "metadata": {},
   "outputs": [
    {
     "data": {
      "text/plain": [
       "['notebook']"
      ]
     },
     "execution_count": 14,
     "metadata": {},
     "output_type": "execute_result"
    }
   ],
   "source": [
    "my_backpack.take(\"pencils\") # Backpack.take(my_backpack, \"pencils\")\n",
    "my_backpack.contents"
   ]
  },
  {
   "cell_type": "code",
   "execution_count": 5,
   "metadata": {},
   "outputs": [
    {
     "name": "stdout",
     "output_type": "stream",
     "text": [
      "Good Job\n"
     ]
    }
   ],
   "source": [
    "testpack = Backpack(\"Barry\", \"black\")\n",
    "if testpack.name != \"Barry\":\n",
    "    print(\"Backpack.name assigned incorrectly\")\n",
    "else:\n",
    "    print(\"Good Job\") # :D "
   ]
  },
  {
   "cell_type": "code",
   "execution_count": 6,
   "metadata": {},
   "outputs": [
    {
     "name": "stdout",
     "output_type": "stream",
     "text": [
      "Contents: ['pencil', 'pen', 'paper', 'computer']\n"
     ]
    }
   ],
   "source": [
    "for item in [\"pencil\", \"pen\", \"paper\", \"computer\"]:\n",
    "    testpack.put(item)\n",
    "print(\"Contents:\", testpack.contents)\n",
    "testpack.put"
   ]
  },
  {
   "cell_type": "code",
   "execution_count": 5,
   "metadata": {},
   "outputs": [],
   "source": [
    "from object_oriented import Backpack\n",
    "from object_oriented import Knapsack"
   ]
  },
  {
   "cell_type": "code",
   "execution_count": 5,
   "metadata": {},
   "outputs": [
    {
     "name": "stdout",
     "output_type": "stream",
     "text": [
      "True False\n"
     ]
    }
   ],
   "source": [
    "my_knapsack = Knapsack(\"Brady\", \"brown\")\n",
    "print(issubclass(Knapsack, Backpack), issubclass(Backpack, Knapsack))"
   ]
  },
  {
   "cell_type": "code",
   "execution_count": 6,
   "metadata": {},
   "outputs": [
    {
     "data": {
      "text/plain": [
       "True"
      ]
     },
     "execution_count": 6,
     "metadata": {},
     "output_type": "execute_result"
    }
   ],
   "source": [
    "isinstance(my_knapsack, Knapsack) and isinstance(my_knapsack, Backpack)"
   ]
  },
  {
   "cell_type": "code",
   "execution_count": 7,
   "metadata": {},
   "outputs": [
    {
     "name": "stdout",
     "output_type": "stream",
     "text": [
      "I'm closed!\n"
     ]
    }
   ],
   "source": [
    "my_knapsack.put('compass')"
   ]
  },
  {
   "cell_type": "code",
   "execution_count": 8,
   "metadata": {},
   "outputs": [
    {
     "data": {
      "text/plain": [
       "['compass', 'pocket knife']"
      ]
     },
     "execution_count": 8,
     "metadata": {},
     "output_type": "execute_result"
    }
   ],
   "source": [
    "my_knapsack.closed=False\n",
    "my_knapsack.put('compass')\n",
    "my_knapsack.put('pocket knife')\n",
    "my_knapsack.contents"
   ]
  },
  {
   "cell_type": "code",
   "execution_count": 15,
   "metadata": {},
   "outputs": [
    {
     "name": "stdout",
     "output_type": "stream",
     "text": [
      "True False\n"
     ]
    }
   ],
   "source": [
    "print(hasattr(my_knapsack, 'weight'), hasattr(my_backpack, 'weight'))"
   ]
  },
  {
   "cell_type": "code",
   "execution_count": 17,
   "metadata": {},
   "outputs": [
    {
     "data": {
      "text/plain": [
       "[]"
      ]
     },
     "execution_count": 17,
     "metadata": {},
     "output_type": "execute_result"
    }
   ],
   "source": [
    "my_knapsack.dump()\n",
    "my_knapsack.contents"
   ]
  },
  {
   "cell_type": "code",
   "execution_count": 7,
   "metadata": {},
   "outputs": [
    {
     "data": {
      "text/plain": [
       "2"
      ]
     },
     "execution_count": 7,
     "metadata": {},
     "output_type": "execute_result"
    }
   ],
   "source": [
    "pack1=Backpack(\"LM\", \"red\")\n",
    "pack2=Backpack(\"LS\", \"green\")\n",
    "pack1.put(\"book\")\n",
    "pack2.put(\"pencil\")\n",
    "\n",
    "pack1+pack2"
   ]
  },
  {
   "cell_type": "code",
   "execution_count": null,
   "metadata": {},
   "outputs": [],
   "source": []
  },
  {
   "cell_type": "code",
   "execution_count": 1,
   "metadata": {},
   "outputs": [],
   "source": [
    "from object_oriented import Backpack\n",
    "from object_oriented import Jetpack"
   ]
  },
  {
   "cell_type": "code",
   "execution_count": 2,
   "metadata": {},
   "outputs": [],
   "source": [
    "my_jet = Jetpack(\"Brady\", \"brown\")"
   ]
  },
  {
   "cell_type": "code",
   "execution_count": 4,
   "metadata": {},
   "outputs": [
    {
     "ename": "AttributeError",
     "evalue": "'list' object has no attribute 'fly'",
     "output_type": "error",
     "traceback": [
      "\u001b[1;31m---------------------------------------------------------------------------\u001b[0m",
      "\u001b[1;31mAttributeError\u001b[0m                            Traceback (most recent call last)",
      "\u001b[1;32m<ipython-input-4-eac06310db97>\u001b[0m in \u001b[0;36m<module>\u001b[1;34m\u001b[0m\n\u001b[1;32m----> 1\u001b[1;33m \u001b[1;33m[\u001b[0m\u001b[1;36m1\u001b[0m\u001b[1;33m,\u001b[0m\u001b[1;36m2\u001b[0m\u001b[1;33m,\u001b[0m\u001b[1;36m3\u001b[0m\u001b[1;33m]\u001b[0m\u001b[1;33m.\u001b[0m\u001b[0mfly\u001b[0m\u001b[1;33m(\u001b[0m\u001b[1;33m)\u001b[0m\u001b[1;33m\u001b[0m\u001b[1;33m\u001b[0m\u001b[0m\n\u001b[0m",
      "\u001b[1;31mAttributeError\u001b[0m: 'list' object has no attribute 'fly'"
     ]
    }
   ],
   "source": [
    "[1,2,3].fly()"
   ]
  },
  {
   "cell_type": "code",
   "execution_count": 8,
   "metadata": {},
   "outputs": [
    {
     "name": "stdout",
     "output_type": "stream",
     "text": [
      "Entering try block...\n",
      "There was a problem: for no reason!\n"
     ]
    }
   ],
   "source": [
    "try:\n",
    "    print(\"Entering try block...\")\n",
    "    raise Exception(\"for no reason!\")\n",
    "    print(\"No problem!\")\n",
    "except Exception as e:\n",
    "    print(\"There was a problem:\",e)"
   ]
  },
  {
   "cell_type": "code",
   "execution_count": 12,
   "metadata": {},
   "outputs": [
    {
     "name": "stdout",
     "output_type": "stream",
     "text": [
      "Entering try block...\n",
      "caught an exception.\n",
      "The house is on fire: True\n"
     ]
    }
   ],
   "source": [
    "try:\n",
    "    print(\"Entering try block...\")\n",
    "    house_on_fire=False\n",
    "    raise ValueError(\"The house is on fire!\")\n",
    "except (ValueError, TypeError) as e:\n",
    "        print(\"caught an exception.\")\n",
    "        house_on_fire=True\n",
    "else: \n",
    "    print(\"no exception raised.\")\n",
    "finally:\n",
    "    print(\"The house is on fire:\", house_on_fire)"
   ]
  },
  {
   "cell_type": "code",
   "execution_count": 14,
   "metadata": {},
   "outputs": [
    {
     "name": "stdout",
     "output_type": "stream",
     "text": [
      "Entering try block...\n",
      "no exception raised.\n",
      "The house is on fire: False\n"
     ]
    }
   ],
   "source": [
    "try:\n",
    "    print(\"Entering try block...\")\n",
    "    house_on_fire=False\n",
    "except ValueError as e:\n",
    "    print(\"caught a ValueError\")\n",
    "    house_on_fire=True\n",
    "except TypeError as e:\n",
    "    print(\"caugth a TypeError\")\n",
    "    house_on_fire=True\n",
    "else:\n",
    "    print(\"no exception raised.\")\n",
    "finally:\n",
    "    print(\"The house is on fire:\", house_on_fire)"
   ]
  },
  {
   "cell_type": "code",
   "execution_count": 22,
   "metadata": {},
   "outputs": [],
   "source": [
    "def divider(x,y):\n",
    "    try:\n",
    "        return x/yy\n",
    "    except:\n",
    "        print(\"y must not equal zero!\")"
   ]
  },
  {
   "cell_type": "code",
   "execution_count": 16,
   "metadata": {},
   "outputs": [
    {
     "name": "stdout",
     "output_type": "stream",
     "text": [
      "y must not equal zero\n"
     ]
    }
   ],
   "source": [
    "divider(2,3)"
   ]
  },
  {
   "cell_type": "code",
   "execution_count": 20,
   "metadata": {},
   "outputs": [],
   "source": [
    "def divider(x,y):\n",
    "    try:\n",
    "        return x/y\n",
    "    except ZeroDivisionError:\n",
    "        print(\"y must not equal zero!\")"
   ]
  },
  {
   "cell_type": "code",
   "execution_count": 23,
   "metadata": {},
   "outputs": [
    {
     "name": "stdout",
     "output_type": "stream",
     "text": [
      "y must not equal zero!\n"
     ]
    }
   ],
   "source": [
    "divider(2,0)"
   ]
  },
  {
   "cell_type": "code",
   "execution_count": 27,
   "metadata": {},
   "outputs": [
    {
     "name": "stdout",
     "output_type": "stream",
     "text": [
      "Hello,\n",
      "World!\n",
      "\n"
     ]
    }
   ],
   "source": [
    "myfile=open(\"hello_world.txt\", 'r')\n",
    "print(myfile.read())"
   ]
  },
  {
   "cell_type": "code",
   "execution_count": 28,
   "metadata": {},
   "outputs": [],
   "source": [
    "myfile.close()"
   ]
  },
  {
   "cell_type": "code",
   "execution_count": 29,
   "metadata": {},
   "outputs": [],
   "source": [
    "myfile = open(\"hello_world.txt\", 'r')\n",
    "try:\n",
    "    contents=myfile.readlines()\n",
    "finally:\n",
    "    myfile.close()"
   ]
  },
  {
   "cell_type": "code",
   "execution_count": 30,
   "metadata": {},
   "outputs": [
    {
     "data": {
      "text/plain": [
       "True"
      ]
     },
     "execution_count": 30,
     "metadata": {},
     "output_type": "execute_result"
    }
   ],
   "source": [
    "with open(\"out.txt\", 'w') as outfile:\n",
    "    for i in range(10):\n",
    "        outfile.write(str(i**2)+' ')\n",
    "outfile.closed"
   ]
  }
 ],
 "metadata": {
  "kernelspec": {
   "display_name": "Python 3",
   "language": "python",
   "name": "python3"
  },
  "language_info": {
   "codemirror_mode": {
    "name": "ipython",
    "version": 3
   },
   "file_extension": ".py",
   "mimetype": "text/x-python",
   "name": "python",
   "nbconvert_exporter": "python",
   "pygments_lexer": "ipython3",
   "version": "3.6.8"
  }
 },
 "nbformat": 4,
 "nbformat_minor": 2
}
